{
 "cells": [
  {
   "cell_type": "markdown",
   "id": "9a8be5f1",
   "metadata": {},
   "source": [
    "# I- Exploratory Data Analysis"
   ]
  },
  {
   "cell_type": "markdown",
   "id": "d89e07b4",
   "metadata": {},
   "source": [
    "## 1- Data Attributes Identification & Data Collection"
   ]
  },
  {
   "cell_type": "markdown",
   "id": "245e1ee2",
   "metadata": {},
   "source": [
    "### a- Explore yelp_academic_dataset_business.json"
   ]
  },
  {
   "cell_type": "code",
   "execution_count": 1,
   "id": "c7ab9de5",
   "metadata": {},
   "outputs": [
    {
     "name": "stdout",
     "output_type": "stream",
     "text": [
      "/home/ayoub/projects/CustomerReviewClassifier/ml/.venv/bin/python\n"
     ]
    }
   ],
   "source": [
    "import sys\n",
    "print(sys.executable)\n"
   ]
  },
  {
   "cell_type": "code",
   "execution_count": 2,
   "id": "f10e0d3b",
   "metadata": {},
   "outputs": [],
   "source": [
    "import pandas as pd\n",
    "import matplotlib.pyplot as plt\n",
    "import spacy\n",
    "from sklearn.preprocessing import LabelEncoder\n",
    "from sklearn.feature_extraction.text import TfidfVectorizer\n",
    "import joblib\n",
    "import os\n",
    "pd.set_option('display.max_colwidth', None)\n"
   ]
  },
  {
   "cell_type": "code",
   "execution_count": null,
   "id": "c5417538",
   "metadata": {},
   "outputs": [
    {
     "data": {
      "text/html": [
       "<div>\n",
       "<style scoped>\n",
       "    .dataframe tbody tr th:only-of-type {\n",
       "        vertical-align: middle;\n",
       "    }\n",
       "\n",
       "    .dataframe tbody tr th {\n",
       "        vertical-align: top;\n",
       "    }\n",
       "\n",
       "    .dataframe thead th {\n",
       "        text-align: right;\n",
       "    }\n",
       "</style>\n",
       "<table border=\"1\" class=\"dataframe\">\n",
       "  <thead>\n",
       "    <tr style=\"text-align: right;\">\n",
       "      <th></th>\n",
       "      <th>business_id</th>\n",
       "      <th>name</th>\n",
       "      <th>address</th>\n",
       "      <th>city</th>\n",
       "      <th>state</th>\n",
       "      <th>postal_code</th>\n",
       "      <th>latitude</th>\n",
       "      <th>longitude</th>\n",
       "      <th>stars</th>\n",
       "      <th>review_count</th>\n",
       "      <th>is_open</th>\n",
       "      <th>attributes</th>\n",
       "      <th>categories</th>\n",
       "      <th>hours</th>\n",
       "    </tr>\n",
       "  </thead>\n",
       "  <tbody>\n",
       "    <tr>\n",
       "      <th>0</th>\n",
       "      <td>Pns2l4eNsfO8kk83dixA6A</td>\n",
       "      <td>Abby Rappoport, LAC, CMQ</td>\n",
       "      <td>1616 Chapala St, Ste 2</td>\n",
       "      <td>Santa Barbara</td>\n",
       "      <td>CA</td>\n",
       "      <td>93101</td>\n",
       "      <td>34.426679</td>\n",
       "      <td>-119.711197</td>\n",
       "      <td>5.0</td>\n",
       "      <td>7</td>\n",
       "      <td>0</td>\n",
       "      <td>{'ByAppointmentOnly': 'True'}</td>\n",
       "      <td>Doctors, Traditional Chinese Medicine, Naturopathic/Holistic, Acupuncture, Health &amp; Medical, Nutritionists</td>\n",
       "      <td>None</td>\n",
       "    </tr>\n",
       "    <tr>\n",
       "      <th>1</th>\n",
       "      <td>mpf3x-BjTdTEA3yCZrAYPw</td>\n",
       "      <td>The UPS Store</td>\n",
       "      <td>87 Grasso Plaza Shopping Center</td>\n",
       "      <td>Affton</td>\n",
       "      <td>MO</td>\n",
       "      <td>63123</td>\n",
       "      <td>38.551126</td>\n",
       "      <td>-90.335695</td>\n",
       "      <td>3.0</td>\n",
       "      <td>15</td>\n",
       "      <td>1</td>\n",
       "      <td>{'BusinessAcceptsCreditCards': 'True'}</td>\n",
       "      <td>Shipping Centers, Local Services, Notaries, Mailbox Centers, Printing Services</td>\n",
       "      <td>{'Monday': '0:0-0:0', 'Tuesday': '8:0-18:30', 'Wednesday': '8:0-18:30', 'Thursday': '8:0-18:30', 'Friday': '8:0-18:30', 'Saturday': '8:0-14:0'}</td>\n",
       "    </tr>\n",
       "    <tr>\n",
       "      <th>2</th>\n",
       "      <td>tUFrWirKiKi_TAnsVWINQQ</td>\n",
       "      <td>Target</td>\n",
       "      <td>5255 E Broadway Blvd</td>\n",
       "      <td>Tucson</td>\n",
       "      <td>AZ</td>\n",
       "      <td>85711</td>\n",
       "      <td>32.223236</td>\n",
       "      <td>-110.880452</td>\n",
       "      <td>3.5</td>\n",
       "      <td>22</td>\n",
       "      <td>0</td>\n",
       "      <td>{'BikeParking': 'True', 'BusinessAcceptsCreditCards': 'True', 'RestaurantsPriceRange2': '2', 'CoatCheck': 'False', 'RestaurantsTakeOut': 'False', 'RestaurantsDelivery': 'False', 'Caters': 'False', 'WiFi': 'u'no'', 'BusinessParking': '{'garage': False, 'street': False, 'validated': False, 'lot': True, 'valet': False}', 'WheelchairAccessible': 'True', 'HappyHour': 'False', 'OutdoorSeating': 'False', 'HasTV': 'False', 'RestaurantsReservations': 'False', 'DogsAllowed': 'False', 'ByAppointmentOnly': 'False'}</td>\n",
       "      <td>Department Stores, Shopping, Fashion, Home &amp; Garden, Electronics, Furniture Stores</td>\n",
       "      <td>{'Monday': '8:0-22:0', 'Tuesday': '8:0-22:0', 'Wednesday': '8:0-22:0', 'Thursday': '8:0-22:0', 'Friday': '8:0-23:0', 'Saturday': '8:0-23:0', 'Sunday': '8:0-22:0'}</td>\n",
       "    </tr>\n",
       "    <tr>\n",
       "      <th>3</th>\n",
       "      <td>MTSW4McQd7CbVtyjqoe9mw</td>\n",
       "      <td>St Honore Pastries</td>\n",
       "      <td>935 Race St</td>\n",
       "      <td>Philadelphia</td>\n",
       "      <td>PA</td>\n",
       "      <td>19107</td>\n",
       "      <td>39.955505</td>\n",
       "      <td>-75.155564</td>\n",
       "      <td>4.0</td>\n",
       "      <td>80</td>\n",
       "      <td>1</td>\n",
       "      <td>{'RestaurantsDelivery': 'False', 'OutdoorSeating': 'False', 'BusinessAcceptsCreditCards': 'False', 'BusinessParking': '{'garage': False, 'street': True, 'validated': False, 'lot': False, 'valet': False}', 'BikeParking': 'True', 'RestaurantsPriceRange2': '1', 'RestaurantsTakeOut': 'True', 'ByAppointmentOnly': 'False', 'WiFi': 'u'free'', 'Alcohol': 'u'none'', 'Caters': 'True'}</td>\n",
       "      <td>Restaurants, Food, Bubble Tea, Coffee &amp; Tea, Bakeries</td>\n",
       "      <td>{'Monday': '7:0-20:0', 'Tuesday': '7:0-20:0', 'Wednesday': '7:0-20:0', 'Thursday': '7:0-20:0', 'Friday': '7:0-21:0', 'Saturday': '7:0-21:0', 'Sunday': '7:0-21:0'}</td>\n",
       "    </tr>\n",
       "    <tr>\n",
       "      <th>4</th>\n",
       "      <td>mWMc6_wTdE0EUBKIGXDVfA</td>\n",
       "      <td>Perkiomen Valley Brewery</td>\n",
       "      <td>101 Walnut St</td>\n",
       "      <td>Green Lane</td>\n",
       "      <td>PA</td>\n",
       "      <td>18054</td>\n",
       "      <td>40.338183</td>\n",
       "      <td>-75.471659</td>\n",
       "      <td>4.5</td>\n",
       "      <td>13</td>\n",
       "      <td>1</td>\n",
       "      <td>{'BusinessAcceptsCreditCards': 'True', 'WheelchairAccessible': 'True', 'RestaurantsTakeOut': 'True', 'BusinessParking': '{'garage': None, 'street': None, 'validated': None, 'lot': True, 'valet': False}', 'BikeParking': 'True', 'GoodForKids': 'True', 'Caters': 'False'}</td>\n",
       "      <td>Brewpubs, Breweries, Food</td>\n",
       "      <td>{'Wednesday': '14:0-22:0', 'Thursday': '16:0-22:0', 'Friday': '12:0-22:0', 'Saturday': '12:0-22:0', 'Sunday': '12:0-18:0'}</td>\n",
       "    </tr>\n",
       "  </tbody>\n",
       "</table>\n",
       "</div>"
      ],
      "text/plain": [
       "              business_id                      name  \\\n",
       "0  Pns2l4eNsfO8kk83dixA6A  Abby Rappoport, LAC, CMQ   \n",
       "1  mpf3x-BjTdTEA3yCZrAYPw             The UPS Store   \n",
       "2  tUFrWirKiKi_TAnsVWINQQ                    Target   \n",
       "3  MTSW4McQd7CbVtyjqoe9mw        St Honore Pastries   \n",
       "4  mWMc6_wTdE0EUBKIGXDVfA  Perkiomen Valley Brewery   \n",
       "\n",
       "                           address           city state postal_code  \\\n",
       "0           1616 Chapala St, Ste 2  Santa Barbara    CA       93101   \n",
       "1  87 Grasso Plaza Shopping Center         Affton    MO       63123   \n",
       "2             5255 E Broadway Blvd         Tucson    AZ       85711   \n",
       "3                      935 Race St   Philadelphia    PA       19107   \n",
       "4                    101 Walnut St     Green Lane    PA       18054   \n",
       "\n",
       "    latitude   longitude  stars  review_count  is_open  \\\n",
       "0  34.426679 -119.711197    5.0             7        0   \n",
       "1  38.551126  -90.335695    3.0            15        1   \n",
       "2  32.223236 -110.880452    3.5            22        0   \n",
       "3  39.955505  -75.155564    4.0            80        1   \n",
       "4  40.338183  -75.471659    4.5            13        1   \n",
       "\n",
       "                                                                                                                                                                                                                                                                                                                                                                                                                                                                                                                     attributes  \\\n",
       "0                                                                                                                                                                                                                                                                                                                                                                                                                                                                                                 {'ByAppointmentOnly': 'True'}   \n",
       "1                                                                                                                                                                                                                                                                                                                                                                                                                                                                                        {'BusinessAcceptsCreditCards': 'True'}   \n",
       "2  {'BikeParking': 'True', 'BusinessAcceptsCreditCards': 'True', 'RestaurantsPriceRange2': '2', 'CoatCheck': 'False', 'RestaurantsTakeOut': 'False', 'RestaurantsDelivery': 'False', 'Caters': 'False', 'WiFi': 'u'no'', 'BusinessParking': '{'garage': False, 'street': False, 'validated': False, 'lot': True, 'valet': False}', 'WheelchairAccessible': 'True', 'HappyHour': 'False', 'OutdoorSeating': 'False', 'HasTV': 'False', 'RestaurantsReservations': 'False', 'DogsAllowed': 'False', 'ByAppointmentOnly': 'False'}   \n",
       "3                                                                                                                                     {'RestaurantsDelivery': 'False', 'OutdoorSeating': 'False', 'BusinessAcceptsCreditCards': 'False', 'BusinessParking': '{'garage': False, 'street': True, 'validated': False, 'lot': False, 'valet': False}', 'BikeParking': 'True', 'RestaurantsPriceRange2': '1', 'RestaurantsTakeOut': 'True', 'ByAppointmentOnly': 'False', 'WiFi': 'u'free'', 'Alcohol': 'u'none'', 'Caters': 'True'}   \n",
       "4                                                                                                                                                                                                                                                  {'BusinessAcceptsCreditCards': 'True', 'WheelchairAccessible': 'True', 'RestaurantsTakeOut': 'True', 'BusinessParking': '{'garage': None, 'street': None, 'validated': None, 'lot': True, 'valet': False}', 'BikeParking': 'True', 'GoodForKids': 'True', 'Caters': 'False'}   \n",
       "\n",
       "                                                                                                   categories  \\\n",
       "0  Doctors, Traditional Chinese Medicine, Naturopathic/Holistic, Acupuncture, Health & Medical, Nutritionists   \n",
       "1                              Shipping Centers, Local Services, Notaries, Mailbox Centers, Printing Services   \n",
       "2                          Department Stores, Shopping, Fashion, Home & Garden, Electronics, Furniture Stores   \n",
       "3                                                       Restaurants, Food, Bubble Tea, Coffee & Tea, Bakeries   \n",
       "4                                                                                   Brewpubs, Breweries, Food   \n",
       "\n",
       "                                                                                                                                                                hours  \n",
       "0                                                                                                                                                                None  \n",
       "1                     {'Monday': '0:0-0:0', 'Tuesday': '8:0-18:30', 'Wednesday': '8:0-18:30', 'Thursday': '8:0-18:30', 'Friday': '8:0-18:30', 'Saturday': '8:0-14:0'}  \n",
       "2  {'Monday': '8:0-22:0', 'Tuesday': '8:0-22:0', 'Wednesday': '8:0-22:0', 'Thursday': '8:0-22:0', 'Friday': '8:0-23:0', 'Saturday': '8:0-23:0', 'Sunday': '8:0-22:0'}  \n",
       "3  {'Monday': '7:0-20:0', 'Tuesday': '7:0-20:0', 'Wednesday': '7:0-20:0', 'Thursday': '7:0-20:0', 'Friday': '7:0-21:0', 'Saturday': '7:0-21:0', 'Sunday': '7:0-21:0'}  \n",
       "4                                          {'Wednesday': '14:0-22:0', 'Thursday': '16:0-22:0', 'Friday': '12:0-22:0', 'Saturday': '12:0-22:0', 'Sunday': '12:0-18:0'}  "
      ]
     },
     "execution_count": 6,
     "metadata": {},
     "output_type": "execute_result"
    }
   ],
   "source": [
    "business_df = pd.read_json('yelp_academic_dataset_business.json', lines=True, nrows=10000)\n",
    "business_df.head()"
   ]
  },
  {
   "cell_type": "markdown",
   "id": "1fa1fe06",
   "metadata": {},
   "source": [
    "## b- Explore yelp_academic_dataset_checkin.json"
   ]
  },
  {
   "cell_type": "code",
   "execution_count": 8,
   "id": "f4b7c422",
   "metadata": {},
   "outputs": [
    {
     "data": {
      "text/html": [
       "<div>\n",
       "<style scoped>\n",
       "    .dataframe tbody tr th:only-of-type {\n",
       "        vertical-align: middle;\n",
       "    }\n",
       "\n",
       "    .dataframe tbody tr th {\n",
       "        vertical-align: top;\n",
       "    }\n",
       "\n",
       "    .dataframe thead th {\n",
       "        text-align: right;\n",
       "    }\n",
       "</style>\n",
       "<table border=\"1\" class=\"dataframe\">\n",
       "  <thead>\n",
       "    <tr style=\"text-align: right;\">\n",
       "      <th></th>\n",
       "      <th>business_id</th>\n",
       "      <th>date</th>\n",
       "    </tr>\n",
       "  </thead>\n",
       "  <tbody>\n",
       "    <tr>\n",
       "      <th>0</th>\n",
       "      <td>---kPU91CF4Lq2-WlRu9Lw</td>\n",
       "      <td>2020-03-13 21:10:56, 2020-06-02 22:18:06, 2020-07-24 22:42:27, 2020-10-24 21:36:13, 2020-12-09 21:23:33, 2021-01-20 17:34:57, 2021-04-30 21:02:03, 2021-05-25 21:16:54, 2021-08-06 21:08:08, 2021-10-02 15:15:42, 2021-11-11 16:23:50</td>\n",
       "    </tr>\n",
       "    <tr>\n",
       "      <th>1</th>\n",
       "      <td>--0iUa4sNDFiZFrAdIWhZQ</td>\n",
       "      <td>2010-09-13 21:43:09, 2011-05-04 23:08:15, 2011-07-18 22:30:31, 2012-09-07 20:28:50, 2013-03-27 15:57:36, 2013-08-13 00:31:34, 2013-08-13 00:31:48, 2013-09-23 17:39:38, 2013-11-18 06:34:08, 2014-04-12 23:04:47</td>\n",
       "    </tr>\n",
       "    <tr>\n",
       "      <th>2</th>\n",
       "      <td>--30_8IhuyMHbSOcNWd6DQ</td>\n",
       "      <td>2013-06-14 23:29:17, 2014-08-13 23:20:22</td>\n",
       "    </tr>\n",
       "    <tr>\n",
       "      <th>3</th>\n",
       "      <td>--7PUidqRWpRSpXebiyxTg</td>\n",
       "      <td>2011-02-15 17:12:00, 2011-07-28 02:46:10, 2012-03-11 10:30:02, 2012-04-24 07:07:59, 2012-04-24 07:43:31, 2013-05-25 16:41:10, 2014-05-02 15:49:55, 2014-09-18 02:28:23, 2014-11-10 15:16:43, 2015-09-27 13:18:32</td>\n",
       "    </tr>\n",
       "    <tr>\n",
       "      <th>4</th>\n",
       "      <td>--7jw19RH9JKXgFohspgQw</td>\n",
       "      <td>2014-04-21 20:42:11, 2014-04-28 21:04:46, 2014-09-30 14:41:47, 2014-10-23 18:22:28, 2015-04-27 19:55:00, 2015-09-21 12:52:09, 2015-10-01 12:46:16, 2015-10-22 13:35:04, 2016-01-14 12:27:43, 2016-02-01 15:15:07, 2016-02-11 12:22:47, 2016-03-31 23:15:46, 2016-04-11 13:11:34, 2016-05-25 12:44:11, 2016-06-27 15:46:11, 2016-06-30 15:14:28, 2016-07-28 14:15:59, 2016-09-22 20:05:06, 2016-11-16 19:00:11, 2016-12-27 14:36:14, 2017-01-24 20:18:16, 2017-02-21 16:01:49, 2017-03-21 14:08:44, 2017-05-21 16:07:21, 2017-08-07 14:17:39, 2021-06-21 19:59:50</td>\n",
       "    </tr>\n",
       "  </tbody>\n",
       "</table>\n",
       "</div>"
      ],
      "text/plain": [
       "              business_id  \\\n",
       "0  ---kPU91CF4Lq2-WlRu9Lw   \n",
       "1  --0iUa4sNDFiZFrAdIWhZQ   \n",
       "2  --30_8IhuyMHbSOcNWd6DQ   \n",
       "3  --7PUidqRWpRSpXebiyxTg   \n",
       "4  --7jw19RH9JKXgFohspgQw   \n",
       "\n",
       "                                                                                                                                                                                                                                                                                                                                                                                                                                                                                                                                                               date  \n",
       "0                                                                                                                                                                                                                                                                                                                             2020-03-13 21:10:56, 2020-06-02 22:18:06, 2020-07-24 22:42:27, 2020-10-24 21:36:13, 2020-12-09 21:23:33, 2021-01-20 17:34:57, 2021-04-30 21:02:03, 2021-05-25 21:16:54, 2021-08-06 21:08:08, 2021-10-02 15:15:42, 2021-11-11 16:23:50  \n",
       "1                                                                                                                                                                                                                                                                                                                                                  2010-09-13 21:43:09, 2011-05-04 23:08:15, 2011-07-18 22:30:31, 2012-09-07 20:28:50, 2013-03-27 15:57:36, 2013-08-13 00:31:34, 2013-08-13 00:31:48, 2013-09-23 17:39:38, 2013-11-18 06:34:08, 2014-04-12 23:04:47  \n",
       "2                                                                                                                                                                                                                                                                                                                                                                                                                                                                                                                          2013-06-14 23:29:17, 2014-08-13 23:20:22  \n",
       "3                                                                                                                                                                                                                                                                                                                                                  2011-02-15 17:12:00, 2011-07-28 02:46:10, 2012-03-11 10:30:02, 2012-04-24 07:07:59, 2012-04-24 07:43:31, 2013-05-25 16:41:10, 2014-05-02 15:49:55, 2014-09-18 02:28:23, 2014-11-10 15:16:43, 2015-09-27 13:18:32  \n",
       "4  2014-04-21 20:42:11, 2014-04-28 21:04:46, 2014-09-30 14:41:47, 2014-10-23 18:22:28, 2015-04-27 19:55:00, 2015-09-21 12:52:09, 2015-10-01 12:46:16, 2015-10-22 13:35:04, 2016-01-14 12:27:43, 2016-02-01 15:15:07, 2016-02-11 12:22:47, 2016-03-31 23:15:46, 2016-04-11 13:11:34, 2016-05-25 12:44:11, 2016-06-27 15:46:11, 2016-06-30 15:14:28, 2016-07-28 14:15:59, 2016-09-22 20:05:06, 2016-11-16 19:00:11, 2016-12-27 14:36:14, 2017-01-24 20:18:16, 2017-02-21 16:01:49, 2017-03-21 14:08:44, 2017-05-21 16:07:21, 2017-08-07 14:17:39, 2021-06-21 19:59:50  "
      ]
     },
     "execution_count": 8,
     "metadata": {},
     "output_type": "execute_result"
    }
   ],
   "source": [
    "checkin_df = pd.read_json('yelp_academic_dataset_checkin.json', lines=True, nrows=10000)\n",
    "checkin_df.head()"
   ]
  },
  {
   "cell_type": "markdown",
   "id": "1363cd73",
   "metadata": {},
   "source": [
    "## c- Explore yelp_academic_dataset_review.json"
   ]
  },
  {
   "cell_type": "code",
   "execution_count": 2,
   "id": "cb02f4b5",
   "metadata": {},
   "outputs": [
    {
     "data": {
      "text/html": [
       "<div>\n",
       "<style scoped>\n",
       "    .dataframe tbody tr th:only-of-type {\n",
       "        vertical-align: middle;\n",
       "    }\n",
       "\n",
       "    .dataframe tbody tr th {\n",
       "        vertical-align: top;\n",
       "    }\n",
       "\n",
       "    .dataframe thead th {\n",
       "        text-align: right;\n",
       "    }\n",
       "</style>\n",
       "<table border=\"1\" class=\"dataframe\">\n",
       "  <thead>\n",
       "    <tr style=\"text-align: right;\">\n",
       "      <th></th>\n",
       "      <th>review_id</th>\n",
       "      <th>user_id</th>\n",
       "      <th>business_id</th>\n",
       "      <th>stars</th>\n",
       "      <th>useful</th>\n",
       "      <th>funny</th>\n",
       "      <th>cool</th>\n",
       "      <th>text</th>\n",
       "      <th>date</th>\n",
       "    </tr>\n",
       "  </thead>\n",
       "  <tbody>\n",
       "    <tr>\n",
       "      <th>0</th>\n",
       "      <td>KU_O5udG6zpxOg-VcAEodg</td>\n",
       "      <td>mh_-eMZ6K5RLWhZyISBhwA</td>\n",
       "      <td>XQfwVwDr-v0ZS3_CbbE5Xw</td>\n",
       "      <td>3</td>\n",
       "      <td>0</td>\n",
       "      <td>0</td>\n",
       "      <td>0</td>\n",
       "      <td>If you decide to eat here, just be aware it is going to take about 2 hours from beginning to end. We have tried it multiple times, because I want to like it! I have been to it's other locations in NJ and never had a bad experience. \\n\\nThe food is good, but it takes a very long time to come out. The waitstaff is very young, but usually pleasant. We have just had too many experiences where we spent way too long waiting. We usually opt for another diner or restaurant on the weekends, in order to be done quicker.</td>\n",
       "      <td>2018-07-07 22:09:11</td>\n",
       "    </tr>\n",
       "    <tr>\n",
       "      <th>1</th>\n",
       "      <td>BiTunyQ73aT9WBnpR9DZGw</td>\n",
       "      <td>OyoGAe7OKpv6SyGZT5g77Q</td>\n",
       "      <td>7ATYjTIgM3jUlt4UM3IypQ</td>\n",
       "      <td>5</td>\n",
       "      <td>1</td>\n",
       "      <td>0</td>\n",
       "      <td>1</td>\n",
       "      <td>I've taken a lot of spin classes over the years, and nothing compares to the classes at Body Cycle. From the nice, clean space and amazing bikes, to the welcoming and motivating instructors, every class is a top notch work out.\\n\\nFor anyone who struggles to fit workouts in, the online scheduling system makes it easy to plan ahead (and there's no need to line up way in advanced like many gyms make you do).\\n\\nThere is no way I can write this review without giving Russell, the owner of Body Cycle, a shout out. Russell's passion for fitness and cycling is so evident, as is his desire for all of his clients to succeed. He is always dropping in to classes to check in/provide encouragement, and is open to ideas and recommendations from anyone. Russell always wears a smile on his face, even when he's kicking your butt in class!</td>\n",
       "      <td>2012-01-03 15:28:18</td>\n",
       "    </tr>\n",
       "    <tr>\n",
       "      <th>2</th>\n",
       "      <td>saUsX_uimxRlCVr67Z4Jig</td>\n",
       "      <td>8g_iMtfSiwikVnbP2etR0A</td>\n",
       "      <td>YjUWPpI6HXG530lwP-fb2A</td>\n",
       "      <td>3</td>\n",
       "      <td>0</td>\n",
       "      <td>0</td>\n",
       "      <td>0</td>\n",
       "      <td>Family diner. Had the buffet. Eclectic assortment: a large chicken leg, fried jalapeño, tamale, two rolled grape leaves, fresh melon. All good. Lots of Mexican choices there. Also has a menu with breakfast served all day long. Friendly, attentive staff. Good place for a casual relaxed meal with no expectations. Next to the Clarion Hotel.</td>\n",
       "      <td>2014-02-05 20:30:30</td>\n",
       "    </tr>\n",
       "    <tr>\n",
       "      <th>3</th>\n",
       "      <td>AqPFMleE6RsU23_auESxiA</td>\n",
       "      <td>_7bHUi9Uuf5__HHc_Q8guQ</td>\n",
       "      <td>kxX2SOes4o-D3ZQBkiMRfA</td>\n",
       "      <td>5</td>\n",
       "      <td>1</td>\n",
       "      <td>0</td>\n",
       "      <td>1</td>\n",
       "      <td>Wow!  Yummy, different,  delicious.   Our favorite is the lamb curry and korma.  With 10 different kinds of naan!!!  Don't let the outside deter you (because we almost changed our minds)...go in and try something new!   You'll be glad you did!</td>\n",
       "      <td>2015-01-04 00:01:03</td>\n",
       "    </tr>\n",
       "    <tr>\n",
       "      <th>4</th>\n",
       "      <td>Sx8TMOWLNuJBWer-0pcmoA</td>\n",
       "      <td>bcjbaE6dDog4jkNY91ncLQ</td>\n",
       "      <td>e4Vwtrqf-wpJfwesgvdgxQ</td>\n",
       "      <td>4</td>\n",
       "      <td>1</td>\n",
       "      <td>0</td>\n",
       "      <td>1</td>\n",
       "      <td>Cute interior and owner (?) gave us tour of upcoming patio/rooftop area which will be great on beautiful days like today. Cheese curds were very good and very filling. Really like that sandwiches come w salad, esp after eating too many curds! Had the onion, gruyere, tomato sandwich. Wasn't too much cheese which I liked. Needed something else...pepper jelly maybe. Would like to see more menu options added such as salads w fun cheeses. Lots of beer and wine as well as limited cocktails. Next time I will try one of the draft wines.</td>\n",
       "      <td>2017-01-14 20:54:15</td>\n",
       "    </tr>\n",
       "  </tbody>\n",
       "</table>\n",
       "</div>"
      ],
      "text/plain": [
       "                review_id                 user_id             business_id  \\\n",
       "0  KU_O5udG6zpxOg-VcAEodg  mh_-eMZ6K5RLWhZyISBhwA  XQfwVwDr-v0ZS3_CbbE5Xw   \n",
       "1  BiTunyQ73aT9WBnpR9DZGw  OyoGAe7OKpv6SyGZT5g77Q  7ATYjTIgM3jUlt4UM3IypQ   \n",
       "2  saUsX_uimxRlCVr67Z4Jig  8g_iMtfSiwikVnbP2etR0A  YjUWPpI6HXG530lwP-fb2A   \n",
       "3  AqPFMleE6RsU23_auESxiA  _7bHUi9Uuf5__HHc_Q8guQ  kxX2SOes4o-D3ZQBkiMRfA   \n",
       "4  Sx8TMOWLNuJBWer-0pcmoA  bcjbaE6dDog4jkNY91ncLQ  e4Vwtrqf-wpJfwesgvdgxQ   \n",
       "\n",
       "   stars  useful  funny  cool  \\\n",
       "0      3       0      0     0   \n",
       "1      5       1      0     1   \n",
       "2      3       0      0     0   \n",
       "3      5       1      0     1   \n",
       "4      4       1      0     1   \n",
       "\n",
       "                                                                                                                                                                                                                                                                                                                                                                                                                                                                                                                                                                                                                                                                                                                                                                                                                                                                text  \\\n",
       "0                                                                                                                                                                                                                                                                                                                                If you decide to eat here, just be aware it is going to take about 2 hours from beginning to end. We have tried it multiple times, because I want to like it! I have been to it's other locations in NJ and never had a bad experience. \\n\\nThe food is good, but it takes a very long time to come out. The waitstaff is very young, but usually pleasant. We have just had too many experiences where we spent way too long waiting. We usually opt for another diner or restaurant on the weekends, in order to be done quicker.   \n",
       "1  I've taken a lot of spin classes over the years, and nothing compares to the classes at Body Cycle. From the nice, clean space and amazing bikes, to the welcoming and motivating instructors, every class is a top notch work out.\\n\\nFor anyone who struggles to fit workouts in, the online scheduling system makes it easy to plan ahead (and there's no need to line up way in advanced like many gyms make you do).\\n\\nThere is no way I can write this review without giving Russell, the owner of Body Cycle, a shout out. Russell's passion for fitness and cycling is so evident, as is his desire for all of his clients to succeed. He is always dropping in to classes to check in/provide encouragement, and is open to ideas and recommendations from anyone. Russell always wears a smile on his face, even when he's kicking your butt in class!   \n",
       "2                                                                                                                                                                                                                                                                                                                                                                                                                                                                                                                Family diner. Had the buffet. Eclectic assortment: a large chicken leg, fried jalapeño, tamale, two rolled grape leaves, fresh melon. All good. Lots of Mexican choices there. Also has a menu with breakfast served all day long. Friendly, attentive staff. Good place for a casual relaxed meal with no expectations. Next to the Clarion Hotel.   \n",
       "3                                                                                                                                                                                                                                                                                                                                                                                                                                                                                                                                                                                                                Wow!  Yummy, different,  delicious.   Our favorite is the lamb curry and korma.  With 10 different kinds of naan!!!  Don't let the outside deter you (because we almost changed our minds)...go in and try something new!   You'll be glad you did!   \n",
       "4                                                                                                                                                                                                                                                                                                             Cute interior and owner (?) gave us tour of upcoming patio/rooftop area which will be great on beautiful days like today. Cheese curds were very good and very filling. Really like that sandwiches come w salad, esp after eating too many curds! Had the onion, gruyere, tomato sandwich. Wasn't too much cheese which I liked. Needed something else...pepper jelly maybe. Would like to see more menu options added such as salads w fun cheeses. Lots of beer and wine as well as limited cocktails. Next time I will try one of the draft wines.   \n",
       "\n",
       "                 date  \n",
       "0 2018-07-07 22:09:11  \n",
       "1 2012-01-03 15:28:18  \n",
       "2 2014-02-05 20:30:30  \n",
       "3 2015-01-04 00:01:03  \n",
       "4 2017-01-14 20:54:15  "
      ]
     },
     "execution_count": 2,
     "metadata": {},
     "output_type": "execute_result"
    }
   ],
   "source": [
    "review_df = pd.read_json('yelp_academic_dataset_review.json', lines=True, nrows=500000)\n",
    "review_df.head()"
   ]
  },
  {
   "cell_type": "markdown",
   "id": "89dc7989",
   "metadata": {},
   "source": [
    "## d- Explore yelp_academic_dataset_tip.json"
   ]
  },
  {
   "cell_type": "code",
   "execution_count": 10,
   "id": "c486d546",
   "metadata": {},
   "outputs": [
    {
     "data": {
      "text/html": [
       "<div>\n",
       "<style scoped>\n",
       "    .dataframe tbody tr th:only-of-type {\n",
       "        vertical-align: middle;\n",
       "    }\n",
       "\n",
       "    .dataframe tbody tr th {\n",
       "        vertical-align: top;\n",
       "    }\n",
       "\n",
       "    .dataframe thead th {\n",
       "        text-align: right;\n",
       "    }\n",
       "</style>\n",
       "<table border=\"1\" class=\"dataframe\">\n",
       "  <thead>\n",
       "    <tr style=\"text-align: right;\">\n",
       "      <th></th>\n",
       "      <th>user_id</th>\n",
       "      <th>business_id</th>\n",
       "      <th>text</th>\n",
       "      <th>date</th>\n",
       "      <th>compliment_count</th>\n",
       "    </tr>\n",
       "  </thead>\n",
       "  <tbody>\n",
       "    <tr>\n",
       "      <th>0</th>\n",
       "      <td>AGNUgVwnZUey3gcPCJ76iw</td>\n",
       "      <td>3uLgwr0qeCNMjKenHJwPGQ</td>\n",
       "      <td>Avengers time with the ladies.</td>\n",
       "      <td>2012-05-18 02:17:21</td>\n",
       "      <td>0</td>\n",
       "    </tr>\n",
       "    <tr>\n",
       "      <th>1</th>\n",
       "      <td>NBN4MgHP9D3cw--SnauTkA</td>\n",
       "      <td>QoezRbYQncpRqyrLH6Iqjg</td>\n",
       "      <td>They have lots of good deserts and tasty cuban sandwiches</td>\n",
       "      <td>2013-02-05 18:35:10</td>\n",
       "      <td>0</td>\n",
       "    </tr>\n",
       "    <tr>\n",
       "      <th>2</th>\n",
       "      <td>-copOvldyKh1qr-vzkDEvw</td>\n",
       "      <td>MYoRNLb5chwjQe3c_k37Gg</td>\n",
       "      <td>It's open even when you think it isn't</td>\n",
       "      <td>2013-08-18 00:56:08</td>\n",
       "      <td>0</td>\n",
       "    </tr>\n",
       "    <tr>\n",
       "      <th>3</th>\n",
       "      <td>FjMQVZjSqY8syIO-53KFKw</td>\n",
       "      <td>hV-bABTK-glh5wj31ps_Jw</td>\n",
       "      <td>Very decent fried chicken</td>\n",
       "      <td>2017-06-27 23:05:38</td>\n",
       "      <td>0</td>\n",
       "    </tr>\n",
       "    <tr>\n",
       "      <th>4</th>\n",
       "      <td>ld0AperBXk1h6UbqmM80zw</td>\n",
       "      <td>_uN0OudeJ3Zl_tf6nxg5ww</td>\n",
       "      <td>Appetizers.. platter special for lunch</td>\n",
       "      <td>2012-10-06 19:43:09</td>\n",
       "      <td>0</td>\n",
       "    </tr>\n",
       "  </tbody>\n",
       "</table>\n",
       "</div>"
      ],
      "text/plain": [
       "                  user_id             business_id  \\\n",
       "0  AGNUgVwnZUey3gcPCJ76iw  3uLgwr0qeCNMjKenHJwPGQ   \n",
       "1  NBN4MgHP9D3cw--SnauTkA  QoezRbYQncpRqyrLH6Iqjg   \n",
       "2  -copOvldyKh1qr-vzkDEvw  MYoRNLb5chwjQe3c_k37Gg   \n",
       "3  FjMQVZjSqY8syIO-53KFKw  hV-bABTK-glh5wj31ps_Jw   \n",
       "4  ld0AperBXk1h6UbqmM80zw  _uN0OudeJ3Zl_tf6nxg5ww   \n",
       "\n",
       "                                                        text  \\\n",
       "0                             Avengers time with the ladies.   \n",
       "1  They have lots of good deserts and tasty cuban sandwiches   \n",
       "2                     It's open even when you think it isn't   \n",
       "3                                  Very decent fried chicken   \n",
       "4                     Appetizers.. platter special for lunch   \n",
       "\n",
       "                 date  compliment_count  \n",
       "0 2012-05-18 02:17:21                 0  \n",
       "1 2013-02-05 18:35:10                 0  \n",
       "2 2013-08-18 00:56:08                 0  \n",
       "3 2017-06-27 23:05:38                 0  \n",
       "4 2012-10-06 19:43:09                 0  "
      ]
     },
     "execution_count": 10,
     "metadata": {},
     "output_type": "execute_result"
    }
   ],
   "source": [
    "tip_df = pd.read_json('yelp_academic_dataset_tip.json', lines=True, nrows=10000)\n",
    "tip_df.head()"
   ]
  },
  {
   "cell_type": "markdown",
   "id": "38d6bd3a",
   "metadata": {},
   "source": [
    "## e- Explore yelp_academic_dataset_user.json"
   ]
  },
  {
   "cell_type": "code",
   "execution_count": 11,
   "id": "3d2f99b3",
   "metadata": {},
   "outputs": [
    {
     "data": {
      "text/html": [
       "<div>\n",
       "<style scoped>\n",
       "    .dataframe tbody tr th:only-of-type {\n",
       "        vertical-align: middle;\n",
       "    }\n",
       "\n",
       "    .dataframe tbody tr th {\n",
       "        vertical-align: top;\n",
       "    }\n",
       "\n",
       "    .dataframe thead th {\n",
       "        text-align: right;\n",
       "    }\n",
       "</style>\n",
       "<table border=\"1\" class=\"dataframe\">\n",
       "  <thead>\n",
       "    <tr style=\"text-align: right;\">\n",
       "      <th></th>\n",
       "      <th>user_id</th>\n",
       "      <th>name</th>\n",
       "      <th>review_count</th>\n",
       "      <th>yelping_since</th>\n",
       "      <th>useful</th>\n",
       "      <th>funny</th>\n",
       "      <th>cool</th>\n",
       "      <th>elite</th>\n",
       "      <th>friends</th>\n",
       "      <th>fans</th>\n",
       "      <th>...</th>\n",
       "      <th>compliment_more</th>\n",
       "      <th>compliment_profile</th>\n",
       "      <th>compliment_cute</th>\n",
       "      <th>compliment_list</th>\n",
       "      <th>compliment_note</th>\n",
       "      <th>compliment_plain</th>\n",
       "      <th>compliment_cool</th>\n",
       "      <th>compliment_funny</th>\n",
       "      <th>compliment_writer</th>\n",
       "      <th>compliment_photos</th>\n",
       "    </tr>\n",
       "  </thead>\n",
       "  <tbody>\n",
       "    <tr>\n",
       "      <th>0</th>\n",
       "      <td>qVc8ODYU5SZjKXVBgXdI7w</td>\n",
       "      <td>Walker</td>\n",
       "      <td>585</td>\n",
       "      <td>2007-01-25 16:47:26</td>\n",
       "      <td>7217</td>\n",
       "      <td>1259</td>\n",
       "      <td>5994</td>\n",
       "      <td>2007</td>\n",
       "      <td>NSCy54eWehBJyZdG2iE84w, pe42u7DcCH2QmI81NX-8qA...</td>\n",
       "      <td>267</td>\n",
       "      <td>...</td>\n",
       "      <td>65</td>\n",
       "      <td>55</td>\n",
       "      <td>56</td>\n",
       "      <td>18</td>\n",
       "      <td>232</td>\n",
       "      <td>844</td>\n",
       "      <td>467</td>\n",
       "      <td>467</td>\n",
       "      <td>239</td>\n",
       "      <td>180</td>\n",
       "    </tr>\n",
       "    <tr>\n",
       "      <th>1</th>\n",
       "      <td>j14WgRoU_-2ZE1aw1dXrJg</td>\n",
       "      <td>Daniel</td>\n",
       "      <td>4333</td>\n",
       "      <td>2009-01-25 04:35:42</td>\n",
       "      <td>43091</td>\n",
       "      <td>13066</td>\n",
       "      <td>27281</td>\n",
       "      <td>2009,2010,2011,2012,2013,2014,2015,2016,2017,2...</td>\n",
       "      <td>ueRPE0CX75ePGMqOFVj6IQ, 52oH4DrRvzzl8wh5UXyU0A...</td>\n",
       "      <td>3138</td>\n",
       "      <td>...</td>\n",
       "      <td>264</td>\n",
       "      <td>184</td>\n",
       "      <td>157</td>\n",
       "      <td>251</td>\n",
       "      <td>1847</td>\n",
       "      <td>7054</td>\n",
       "      <td>3131</td>\n",
       "      <td>3131</td>\n",
       "      <td>1521</td>\n",
       "      <td>1946</td>\n",
       "    </tr>\n",
       "    <tr>\n",
       "      <th>2</th>\n",
       "      <td>2WnXYQFK0hXEoTxPtV2zvg</td>\n",
       "      <td>Steph</td>\n",
       "      <td>665</td>\n",
       "      <td>2008-07-25 10:41:00</td>\n",
       "      <td>2086</td>\n",
       "      <td>1010</td>\n",
       "      <td>1003</td>\n",
       "      <td>2009,2010,2011,2012,2013</td>\n",
       "      <td>LuO3Bn4f3rlhyHIaNfTlnA, j9B4XdHUhDfTKVecyWQgyA...</td>\n",
       "      <td>52</td>\n",
       "      <td>...</td>\n",
       "      <td>13</td>\n",
       "      <td>10</td>\n",
       "      <td>17</td>\n",
       "      <td>3</td>\n",
       "      <td>66</td>\n",
       "      <td>96</td>\n",
       "      <td>119</td>\n",
       "      <td>119</td>\n",
       "      <td>35</td>\n",
       "      <td>18</td>\n",
       "    </tr>\n",
       "    <tr>\n",
       "      <th>3</th>\n",
       "      <td>SZDeASXq7o05mMNLshsdIA</td>\n",
       "      <td>Gwen</td>\n",
       "      <td>224</td>\n",
       "      <td>2005-11-29 04:38:33</td>\n",
       "      <td>512</td>\n",
       "      <td>330</td>\n",
       "      <td>299</td>\n",
       "      <td>2009,2010,2011</td>\n",
       "      <td>enx1vVPnfdNUdPho6PH_wg, 4wOcvMLtU6a9Lslggq74Vg...</td>\n",
       "      <td>28</td>\n",
       "      <td>...</td>\n",
       "      <td>4</td>\n",
       "      <td>1</td>\n",
       "      <td>6</td>\n",
       "      <td>2</td>\n",
       "      <td>12</td>\n",
       "      <td>16</td>\n",
       "      <td>26</td>\n",
       "      <td>26</td>\n",
       "      <td>10</td>\n",
       "      <td>9</td>\n",
       "    </tr>\n",
       "    <tr>\n",
       "      <th>4</th>\n",
       "      <td>hA5lMy-EnncsH4JoR-hFGQ</td>\n",
       "      <td>Karen</td>\n",
       "      <td>79</td>\n",
       "      <td>2007-01-05 19:40:59</td>\n",
       "      <td>29</td>\n",
       "      <td>15</td>\n",
       "      <td>7</td>\n",
       "      <td></td>\n",
       "      <td>PBK4q9KEEBHhFvSXCUirIw, 3FWPpM7KU1gXeOM_ZbYMbA...</td>\n",
       "      <td>1</td>\n",
       "      <td>...</td>\n",
       "      <td>1</td>\n",
       "      <td>0</td>\n",
       "      <td>0</td>\n",
       "      <td>0</td>\n",
       "      <td>1</td>\n",
       "      <td>1</td>\n",
       "      <td>0</td>\n",
       "      <td>0</td>\n",
       "      <td>0</td>\n",
       "      <td>0</td>\n",
       "    </tr>\n",
       "  </tbody>\n",
       "</table>\n",
       "<p>5 rows × 22 columns</p>\n",
       "</div>"
      ],
      "text/plain": [
       "                  user_id    name  review_count        yelping_since  useful  \\\n",
       "0  qVc8ODYU5SZjKXVBgXdI7w  Walker           585  2007-01-25 16:47:26    7217   \n",
       "1  j14WgRoU_-2ZE1aw1dXrJg  Daniel          4333  2009-01-25 04:35:42   43091   \n",
       "2  2WnXYQFK0hXEoTxPtV2zvg   Steph           665  2008-07-25 10:41:00    2086   \n",
       "3  SZDeASXq7o05mMNLshsdIA    Gwen           224  2005-11-29 04:38:33     512   \n",
       "4  hA5lMy-EnncsH4JoR-hFGQ   Karen            79  2007-01-05 19:40:59      29   \n",
       "\n",
       "   funny   cool                                              elite  \\\n",
       "0   1259   5994                                               2007   \n",
       "1  13066  27281  2009,2010,2011,2012,2013,2014,2015,2016,2017,2...   \n",
       "2   1010   1003                           2009,2010,2011,2012,2013   \n",
       "3    330    299                                     2009,2010,2011   \n",
       "4     15      7                                                      \n",
       "\n",
       "                                             friends  fans  ...  \\\n",
       "0  NSCy54eWehBJyZdG2iE84w, pe42u7DcCH2QmI81NX-8qA...   267  ...   \n",
       "1  ueRPE0CX75ePGMqOFVj6IQ, 52oH4DrRvzzl8wh5UXyU0A...  3138  ...   \n",
       "2  LuO3Bn4f3rlhyHIaNfTlnA, j9B4XdHUhDfTKVecyWQgyA...    52  ...   \n",
       "3  enx1vVPnfdNUdPho6PH_wg, 4wOcvMLtU6a9Lslggq74Vg...    28  ...   \n",
       "4  PBK4q9KEEBHhFvSXCUirIw, 3FWPpM7KU1gXeOM_ZbYMbA...     1  ...   \n",
       "\n",
       "   compliment_more  compliment_profile  compliment_cute  compliment_list  \\\n",
       "0               65                  55               56               18   \n",
       "1              264                 184              157              251   \n",
       "2               13                  10               17                3   \n",
       "3                4                   1                6                2   \n",
       "4                1                   0                0                0   \n",
       "\n",
       "   compliment_note  compliment_plain  compliment_cool  compliment_funny  \\\n",
       "0              232               844              467               467   \n",
       "1             1847              7054             3131              3131   \n",
       "2               66                96              119               119   \n",
       "3               12                16               26                26   \n",
       "4                1                 1                0                 0   \n",
       "\n",
       "   compliment_writer  compliment_photos  \n",
       "0                239                180  \n",
       "1               1521               1946  \n",
       "2                 35                 18  \n",
       "3                 10                  9  \n",
       "4                  0                  0  \n",
       "\n",
       "[5 rows x 22 columns]"
      ]
     },
     "execution_count": 11,
     "metadata": {},
     "output_type": "execute_result"
    }
   ],
   "source": [
    "user_df = pd.read_json('yelp_academic_dataset_user.json', lines=True, nrows=10000)\n",
    "pd.set_option('display.max_colwidth', 50)\n",
    "user_df.head()\n"
   ]
  },
  {
   "cell_type": "code",
   "execution_count": 12,
   "id": "94d8417f",
   "metadata": {},
   "outputs": [
    {
     "name": "stdout",
     "output_type": "stream",
     "text": [
      "business_df columns:  ['business_id', 'name', 'address', 'city', 'state', 'postal_code', 'latitude', 'longitude', 'stars', 'review_count', 'is_open', 'attributes', 'categories', 'hours']\n",
      "checkin_df columns:  ['business_id', 'date']\n",
      "review_df columns:  ['review_id', 'user_id', 'business_id', 'stars', 'useful', 'funny', 'cool', 'text', 'date']\n",
      "tip_df columns:  ['user_id', 'business_id', 'text', 'date', 'compliment_count']\n",
      "user_df columns:  ['user_id', 'name', 'review_count', 'yelping_since', 'useful', 'funny', 'cool', 'elite', 'friends', 'fans', 'average_stars', 'compliment_hot', 'compliment_more', 'compliment_profile', 'compliment_cute', 'compliment_list', 'compliment_note', 'compliment_plain', 'compliment_cool', 'compliment_funny', 'compliment_writer', 'compliment_photos']\n"
     ]
    }
   ],
   "source": [
    "print(\"business_df columns: \", business_df.columns.tolist())\n",
    "print(\"checkin_df columns: \", checkin_df.columns.tolist())\n",
    "print(\"review_df columns: \", review_df.columns.tolist())\n",
    "print(\"tip_df columns: \", tip_df.columns.tolist())\n",
    "print(\"user_df columns: \", user_df.columns.tolist())\n"
   ]
  },
  {
   "cell_type": "code",
   "execution_count": 3,
   "id": "b6605c32",
   "metadata": {},
   "outputs": [],
   "source": [
    "review_df= review_df[['stars', 'text']]\n",
    "review_df.head()\n",
    "review_df.to_csv(\"data_extracted.csv\", index=False)"
   ]
  },
  {
   "cell_type": "markdown",
   "id": "1e1dca37",
   "metadata": {},
   "source": [
    "## 2- Data Pre-processing"
   ]
  },
  {
   "cell_type": "code",
   "execution_count": 2,
   "id": "4639c3d8",
   "metadata": {},
   "outputs": [
    {
     "data": {
      "text/html": [
       "<div>\n",
       "<style scoped>\n",
       "    .dataframe tbody tr th:only-of-type {\n",
       "        vertical-align: middle;\n",
       "    }\n",
       "\n",
       "    .dataframe tbody tr th {\n",
       "        vertical-align: top;\n",
       "    }\n",
       "\n",
       "    .dataframe thead th {\n",
       "        text-align: right;\n",
       "    }\n",
       "</style>\n",
       "<table border=\"1\" class=\"dataframe\">\n",
       "  <thead>\n",
       "    <tr style=\"text-align: right;\">\n",
       "      <th></th>\n",
       "      <th>stars</th>\n",
       "      <th>text</th>\n",
       "    </tr>\n",
       "  </thead>\n",
       "  <tbody>\n",
       "    <tr>\n",
       "      <th>0</th>\n",
       "      <td>3</td>\n",
       "      <td>If you decide to eat here, just be aware it is going to take about 2 hours from beginning to end. We have tried it multiple times, because I want to like it! I have been to it's other locations in NJ and never had a bad experience. \\n\\nThe food is good, but it takes a very long time to come out. The waitstaff is very young, but usually pleasant. We have just had too many experiences where we spent way too long waiting. We usually opt for another diner or restaurant on the weekends, in order to be done quicker.</td>\n",
       "    </tr>\n",
       "    <tr>\n",
       "      <th>1</th>\n",
       "      <td>5</td>\n",
       "      <td>I've taken a lot of spin classes over the years, and nothing compares to the classes at Body Cycle. From the nice, clean space and amazing bikes, to the welcoming and motivating instructors, every class is a top notch work out.\\n\\nFor anyone who struggles to fit workouts in, the online scheduling system makes it easy to plan ahead (and there's no need to line up way in advanced like many gyms make you do).\\n\\nThere is no way I can write this review without giving Russell, the owner of Body Cycle, a shout out. Russell's passion for fitness and cycling is so evident, as is his desire for all of his clients to succeed. He is always dropping in to classes to check in/provide encouragement, and is open to ideas and recommendations from anyone. Russell always wears a smile on his face, even when he's kicking your butt in class!</td>\n",
       "    </tr>\n",
       "    <tr>\n",
       "      <th>2</th>\n",
       "      <td>3</td>\n",
       "      <td>Family diner. Had the buffet. Eclectic assortment: a large chicken leg, fried jalapeño, tamale, two rolled grape leaves, fresh melon. All good. Lots of Mexican choices there. Also has a menu with breakfast served all day long. Friendly, attentive staff. Good place for a casual relaxed meal with no expectations. Next to the Clarion Hotel.</td>\n",
       "    </tr>\n",
       "    <tr>\n",
       "      <th>3</th>\n",
       "      <td>5</td>\n",
       "      <td>Wow!  Yummy, different,  delicious.   Our favorite is the lamb curry and korma.  With 10 different kinds of naan!!!  Don't let the outside deter you (because we almost changed our minds)...go in and try something new!   You'll be glad you did!</td>\n",
       "    </tr>\n",
       "    <tr>\n",
       "      <th>4</th>\n",
       "      <td>4</td>\n",
       "      <td>Cute interior and owner (?) gave us tour of upcoming patio/rooftop area which will be great on beautiful days like today. Cheese curds were very good and very filling. Really like that sandwiches come w salad, esp after eating too many curds! Had the onion, gruyere, tomato sandwich. Wasn't too much cheese which I liked. Needed something else...pepper jelly maybe. Would like to see more menu options added such as salads w fun cheeses. Lots of beer and wine as well as limited cocktails. Next time I will try one of the draft wines.</td>\n",
       "    </tr>\n",
       "  </tbody>\n",
       "</table>\n",
       "</div>"
      ],
      "text/plain": [
       "   stars  \\\n",
       "0      3   \n",
       "1      5   \n",
       "2      3   \n",
       "3      5   \n",
       "4      4   \n",
       "\n",
       "                                                                                                                                                                                                                                                                                                                                                                                                                                                                                                                                                                                                                                                                                                                                                                                                                                                                text  \n",
       "0                                                                                                                                                                                                                                                                                                                                If you decide to eat here, just be aware it is going to take about 2 hours from beginning to end. We have tried it multiple times, because I want to like it! I have been to it's other locations in NJ and never had a bad experience. \\n\\nThe food is good, but it takes a very long time to come out. The waitstaff is very young, but usually pleasant. We have just had too many experiences where we spent way too long waiting. We usually opt for another diner or restaurant on the weekends, in order to be done quicker.  \n",
       "1  I've taken a lot of spin classes over the years, and nothing compares to the classes at Body Cycle. From the nice, clean space and amazing bikes, to the welcoming and motivating instructors, every class is a top notch work out.\\n\\nFor anyone who struggles to fit workouts in, the online scheduling system makes it easy to plan ahead (and there's no need to line up way in advanced like many gyms make you do).\\n\\nThere is no way I can write this review without giving Russell, the owner of Body Cycle, a shout out. Russell's passion for fitness and cycling is so evident, as is his desire for all of his clients to succeed. He is always dropping in to classes to check in/provide encouragement, and is open to ideas and recommendations from anyone. Russell always wears a smile on his face, even when he's kicking your butt in class!  \n",
       "2                                                                                                                                                                                                                                                                                                                                                                                                                                                                                                                Family diner. Had the buffet. Eclectic assortment: a large chicken leg, fried jalapeño, tamale, two rolled grape leaves, fresh melon. All good. Lots of Mexican choices there. Also has a menu with breakfast served all day long. Friendly, attentive staff. Good place for a casual relaxed meal with no expectations. Next to the Clarion Hotel.  \n",
       "3                                                                                                                                                                                                                                                                                                                                                                                                                                                                                                                                                                                                                Wow!  Yummy, different,  delicious.   Our favorite is the lamb curry and korma.  With 10 different kinds of naan!!!  Don't let the outside deter you (because we almost changed our minds)...go in and try something new!   You'll be glad you did!  \n",
       "4                                                                                                                                                                                                                                                                                                             Cute interior and owner (?) gave us tour of upcoming patio/rooftop area which will be great on beautiful days like today. Cheese curds were very good and very filling. Really like that sandwiches come w salad, esp after eating too many curds! Had the onion, gruyere, tomato sandwich. Wasn't too much cheese which I liked. Needed something else...pepper jelly maybe. Would like to see more menu options added such as salads w fun cheeses. Lots of beer and wine as well as limited cocktails. Next time I will try one of the draft wines.  "
      ]
     },
     "execution_count": 2,
     "metadata": {},
     "output_type": "execute_result"
    }
   ],
   "source": [
    "df = pd.read_csv('data_extracted.csv')\n",
    "df.head()  \n"
   ]
  },
  {
   "cell_type": "code",
   "execution_count": 7,
   "id": "1dbe7bd4",
   "metadata": {},
   "outputs": [
    {
     "data": {
      "text/html": [
       "<div>\n",
       "<style scoped>\n",
       "    .dataframe tbody tr th:only-of-type {\n",
       "        vertical-align: middle;\n",
       "    }\n",
       "\n",
       "    .dataframe tbody tr th {\n",
       "        vertical-align: top;\n",
       "    }\n",
       "\n",
       "    .dataframe thead th {\n",
       "        text-align: right;\n",
       "    }\n",
       "</style>\n",
       "<table border=\"1\" class=\"dataframe\">\n",
       "  <thead>\n",
       "    <tr style=\"text-align: right;\">\n",
       "      <th></th>\n",
       "      <th>stars</th>\n",
       "    </tr>\n",
       "  </thead>\n",
       "  <tbody>\n",
       "    <tr>\n",
       "      <th>count</th>\n",
       "      <td>500000.000000</td>\n",
       "    </tr>\n",
       "    <tr>\n",
       "      <th>mean</th>\n",
       "      <td>3.806634</td>\n",
       "    </tr>\n",
       "    <tr>\n",
       "      <th>std</th>\n",
       "      <td>1.418262</td>\n",
       "    </tr>\n",
       "    <tr>\n",
       "      <th>min</th>\n",
       "      <td>1.000000</td>\n",
       "    </tr>\n",
       "    <tr>\n",
       "      <th>25%</th>\n",
       "      <td>3.000000</td>\n",
       "    </tr>\n",
       "    <tr>\n",
       "      <th>50%</th>\n",
       "      <td>4.000000</td>\n",
       "    </tr>\n",
       "    <tr>\n",
       "      <th>75%</th>\n",
       "      <td>5.000000</td>\n",
       "    </tr>\n",
       "    <tr>\n",
       "      <th>max</th>\n",
       "      <td>5.000000</td>\n",
       "    </tr>\n",
       "  </tbody>\n",
       "</table>\n",
       "</div>"
      ],
      "text/plain": [
       "               stars\n",
       "count  500000.000000\n",
       "mean        3.806634\n",
       "std         1.418262\n",
       "min         1.000000\n",
       "25%         3.000000\n",
       "50%         4.000000\n",
       "75%         5.000000\n",
       "max         5.000000"
      ]
     },
     "execution_count": 7,
     "metadata": {},
     "output_type": "execute_result"
    }
   ],
   "source": [
    "df.describe()"
   ]
  },
  {
   "cell_type": "code",
   "execution_count": 8,
   "id": "bf59c6ab",
   "metadata": {},
   "outputs": [
    {
     "data": {
      "image/png": "[encoded data removed]",
      "text/plain": [
       "<Figure size 1500x800 with 1 Axes>"
      ]
     },
     "metadata": {},
     "output_type": "display_data"
    }
   ],
   "source": [
    "df.hist(bins=50, figsize=(15,8))\n",
    "plt.show()"
   ]
  },
  {
   "cell_type": "code",
   "execution_count": 9,
   "id": "24d71d3b",
   "metadata": {},
   "outputs": [
    {
     "data": {
      "text/plain": [
       "(500000, 2)"
      ]
     },
     "execution_count": 9,
     "metadata": {},
     "output_type": "execute_result"
    }
   ],
   "source": [
    "df.shape"
   ]
  },
  {
   "cell_type": "code",
   "execution_count": 3,
   "id": "ff2a4046",
   "metadata": {},
   "outputs": [],
   "source": [
    "df['text'] = df['text'].str.lower()"
   ]
  },
  {
   "cell_type": "markdown",
   "id": "dc09dac9",
   "metadata": {},
   "source": [
    "### a- Handle Missig-Values"
   ]
  },
  {
   "cell_type": "code",
   "execution_count": 3,
   "id": "0230fae8",
   "metadata": {},
   "outputs": [
    {
     "name": "stdout",
     "output_type": "stream",
     "text": [
      "<class 'pandas.core.frame.DataFrame'>\n",
      "RangeIndex: 500000 entries, 0 to 499999\n",
      "Data columns (total 2 columns):\n",
      " #   Column  Non-Null Count   Dtype \n",
      "---  ------  --------------   ----- \n",
      " 0   stars   500000 non-null  int64 \n",
      " 1   text    500000 non-null  object\n",
      "dtypes: int64(1), object(1)\n",
      "memory usage: 7.6+ MB\n"
     ]
    }
   ],
   "source": [
    "df.info()"
   ]
  },
  {
   "cell_type": "code",
   "execution_count": 17,
   "id": "e56440b8",
   "metadata": {},
   "outputs": [
    {
     "data": {
      "text/plain": [
       "stars    0\n",
       "text     0\n",
       "dtype: int64"
      ]
     },
     "execution_count": 17,
     "metadata": {},
     "output_type": "execute_result"
    }
   ],
   "source": [
    "df.isna().sum()"
   ]
  },
  {
   "cell_type": "markdown",
   "id": "aab06329",
   "metadata": {},
   "source": [
    "### b- Remove Duplicate"
   ]
  },
  {
   "cell_type": "code",
   "execution_count": 4,
   "id": "92a56568",
   "metadata": {},
   "outputs": [
    {
     "data": {
      "text/plain": [
       "np.int64(779)"
      ]
     },
     "execution_count": 4,
     "metadata": {},
     "output_type": "execute_result"
    }
   ],
   "source": [
    "df['text'].duplicated().sum()"
   ]
  },
  {
   "cell_type": "code",
   "execution_count": 5,
   "id": "262caa94",
   "metadata": {},
   "outputs": [],
   "source": [
    "df = df.drop_duplicates(subset=['text']).reset_index(drop=True)"
   ]
  },
  {
   "cell_type": "code",
   "execution_count": 6,
   "id": "0fdbe16a",
   "metadata": {},
   "outputs": [
    {
     "data": {
      "text/plain": [
       "np.int64(0)"
      ]
     },
     "execution_count": 6,
     "metadata": {},
     "output_type": "execute_result"
    }
   ],
   "source": [
    "df['text'].duplicated().sum()"
   ]
  },
  {
   "cell_type": "code",
   "execution_count": 7,
   "id": "c46d75fb",
   "metadata": {},
   "outputs": [
    {
     "data": {
      "text/plain": [
       "(499229, 2)"
      ]
     },
     "execution_count": 7,
     "metadata": {},
     "output_type": "execute_result"
    }
   ],
   "source": [
    "df.shape"
   ]
  },
  {
   "cell_type": "markdown",
   "id": "86f19e0a",
   "metadata": {},
   "source": [
    "### c-) Text Cleaning and Lemmatization with Negation Handling"
   ]
  },
  {
   "cell_type": "code",
   "execution_count": null,
   "id": "cecd193a",
   "metadata": {},
   "outputs": [
    {
     "name": "stdout",
     "output_type": "stream",
     "text": [
      "                                                                                                                                                                                                                                                                                                                                                                                                                                                                                                                                                                                                                                                                                                                                                                                                                                                                     text  \\\n",
      "0                                                                                                                                                                                                                                                                                                                                     if you decide to eat here, just be aware it is going to take about 2 hours from beginning to end. we have tried it multiple times, because i want to like it! i have been to it's other locations in nj and never had a bad experience. \\n\\nthe food is good, but it takes a very long time to come out. the waitstaff is very young, but usually pleasant. we have just had too many experiences where we spent way too long waiting. we usually opt for another diner or restaurant on the weekends, in order to be done quicker.   \n",
      "1       i've taken a lot of spin classes over the years, and nothing compares to the classes at body cycle. from the nice, clean space and amazing bikes, to the welcoming and motivating instructors, every class is a top notch work out.\\n\\nfor anyone who struggles to fit workouts in, the online scheduling system makes it easy to plan ahead (and there's no need to line up way in advanced like many gyms make you do).\\n\\nthere is no way i can write this review without giving russell, the owner of body cycle, a shout out. russell's passion for fitness and cycling is so evident, as is his desire for all of his clients to succeed. he is always dropping in to classes to check in/provide encouragement, and is open to ideas and recommendations from anyone. russell always wears a smile on his face, even when he's kicking your butt in class!   \n",
      "2                                                                                                                                                                                                                                                                                                                                                                                                                                                                                                                     family diner. had the buffet. eclectic assortment: a large chicken leg, fried jalapeño, tamale, two rolled grape leaves, fresh melon. all good. lots of mexican choices there. also has a menu with breakfast served all day long. friendly, attentive staff. good place for a casual relaxed meal with no expectations. next to the clarion hotel.   \n",
      "3                                                                                                                                                                                                                                                                                                                                                                                                                                                                                                                                                                                                                     wow!  yummy, different,  delicious.   our favorite is the lamb curry and korma.  with 10 different kinds of naan!!!  don't let the outside deter you (because we almost changed our minds)...go in and try something new!   you'll be glad you did!   \n",
      "4                                                                                                                                                                                                                                                                                                                  cute interior and owner (?) gave us tour of upcoming patio/rooftop area which will be great on beautiful days like today. cheese curds were very good and very filling. really like that sandwiches come w salad, esp after eating too many curds! had the onion, gruyere, tomato sandwich. wasn't too much cheese which i liked. needed something else...pepper jelly maybe. would like to see more menu options added such as salads w fun cheeses. lots of beer and wine as well as limited cocktails. next time i will try one of the draft wines.   \n",
      "...                                                                                                                                                                                                                                                                                                                                                                                                                                                                                                                                                                                                                                                                                                                                                                                                                                                                   ...   \n",
      "499216                                                                               we won the playoff game last night and is scheduled for the championship game tonight! out juniata bears 11/12 are winners no matter what happens tonight because they fought hard for this opportunity. we wanted to reward our team with trophies to show they're winners no matter the outcome !. everyone we called told us we needed 24 hours' notice so it couldn't be done. when i called spike's trophies, they heard the desperation in my voice and took my order without hesitation. i will forever be grateful to lisa and ted who answered the phone. she took her time making sure my needs were met. i'm beyond excited for the kids.\\n\\ni would highly recommend this business and will use their services from now on!\\n\\na+a+a+a+a+a+a+a+a+a+a+a+a+a+a+a+a+a+a+a+a   \n",
      "499217                                                                                                                                                                                                                                                                                                                                                                                                                                                                                     we have been a resident almost 4 years at manzanita and absolutely love it. the setting is peaceful and tranquil. the office and staff here are always helpful. joanne has been the best in always helping in our details and facilitating all our needs. i recommend living here. it's a community that offers something for everyone\\n\\n\"a place to call home\"\\n\\nkim & luis   \n",
      "499218                                                                                                                                                                                                                                                                                                                                                                                                                                                                                                                                                                  this place is hyped as one of the best places in st louis. they are located in an interesting part of town. the history of the story is great. tried a few chocolates and malt balls which were great. unfortunately their ice cream and shakes were not that great compared to others we've had.   \n",
      "499219                                                                           saw the reviews so thought i'd try this place. was really disappointed. the rice was supposed to be basmati but was regular rice and on top of that no flavor at all like no herbs, no hint of taste, sweet or otherwise like at a good indian restaurant. i got vegetable jalfrezi and the vegetables were the cheap frozen kind of mixed vegetables you get at the supermarket! really?!? once i got over my confusion i found at least the sauce was good. garlic naan was really good and was the best part of the meal, actually the only thing i ate all of. the pics are what i left.... sorry couldn't eat that. i love indian food and just couldn't do it to myself. at least when i complained the waitress have me 20%off. but sorry, won't be back. two stars for the naan.   \n",
      "499220                                                                                                                                                                                                                                                                                                                                                                                                                                                                                                                                                                                     yummy!  i ordered uber eats and wasn't sure how this was going to go. i ordered the cajun shrimp alfredo.  omg!  it was delicious!  the portion was huge. i had the meatballs and cheese.  omg!  it was heaven!  everything about this place was the bomb!  my new go-to spot!   \n",
      "\n",
      "                                                                                                                                                                                                                                                                                                                                                                                                                                                              cleaned_text  \n",
      "0                                                                                                                                                                                                                           decide eat aware go hour begin end try multiple time want like location nj never bad experience food good take long time come waitstaff young usually pleasant experience spend way long wait usually opt diner restaurant weekend order quick  \n",
      "1       take lot spin class year compare class body cycle nice clean space amazing bike welcoming motivate instructor class notch work struggle fit workout online scheduling system make easy plan ahead no need line way advanced like gym no way write review give russell owner body cycle shout russell passion fitness cycling evident desire client succeed drop class check provide encouragement open idea recommendation russell wear smile face kick butt class  \n",
      "2                                                                                                                                                                                                                    family diner buffet eclectic assortment large chicken leg fry jalapeño tamale roll grape leave fresh melon good lot mexican choice menu breakfast serve day long friendly attentive staff good place casual relaxed meal no expectation clarion hotel  \n",
      "3                                                                                                                                                                                                                                                                                                                                                        wow yummy different delicious favorite lamb curry korma different kind naan let outside deter change try new glad  \n",
      "4                                                                                                                                                   cute interior owner give tour upcoming patio rooftop area great beautiful day like today cheese curd good filling like sandwich come w salad esp eat curd onion gruyere tomato sandwich cheese like need pepper jelly maybe like menu option add salad w fun cheese lot beer wine limited cocktail time try draft wine  \n",
      "...                                                                                                                                                                                                                                                                                                                                                                                                                                                                    ...  \n",
      "499216                                                                     win playoff game night schedule championship game tonight juniata bear winner no matter happen tonight fight hard opportunity want reward team trophy winner no matter outcome call tell need hour notice call spike trophy hear desperation voice take order hesitation forever grateful lisa ted answer phone take time make sure need meet excited kid highly recommend business use service  \n",
      "499217                                                                                                                                                                                                                                                                                   resident year manzanita absolutely love setting peaceful tranquil office staff helpful joanne good help detail facilitate need recommend live community offer place home kim luis  \n",
      "499218                                                                                                                                                                                                                                                                                                            place hype good place st louis locate interesting town history story great try chocolate malt ball great unfortunately ice cream shake not great compare  \n",
      "499219                                                                             see review think try place disappointed rice suppose basmati regular rice no flavor like no herb no hint taste sweet like good indian restaurant get vegetable jalfrezi vegetable cheap frozen kind mixed vegetable supermarket get confusion find sauce good garlic naan good good meal actually thing eat pic leave sorry eat love indian food complain waitress sorry will star naan  \n",
      "499220                                                                                                                                                                                                                                                                                                                                   yummy order uber eat sure go order cajun shrimp alfredo omg delicious portion huge meatball cheese omg heaven place bomb new spot  \n",
      "\n",
      "[499221 rows x 2 columns]\n"
     ]
    }
   ],
   "source": [
    "nlp = spacy.load(\"en_core_web_sm\", disable=[\"ner\", \"parser\"]) \n",
    "\n",
    "cleaned_texts = []\n",
    "negations = {\"no\", \"not\", \"never\", \"n't\"}\n",
    "for doc in nlp.pipe(df['text'], batch_size=50, n_process=2):\n",
    "    cleaned_string = \" \".join([token.lemma_ for token in doc if (token.is_alpha and (not token.is_stop or token.text in negations))])\n",
    "    cleaned_texts.append(cleaned_string)\n",
    "\n",
    "df['cleaned_text'] = cleaned_texts\n",
    "\n",
    "print(df[['text', 'cleaned_text']])\n"
   ]
  },
  {
   "cell_type": "code",
   "execution_count": 8,
   "id": "212a1b0a",
   "metadata": {},
   "outputs": [
    {
     "data": {
      "text/html": [
       "<div>\n",
       "<style scoped>\n",
       "    .dataframe tbody tr th:only-of-type {\n",
       "        vertical-align: middle;\n",
       "    }\n",
       "\n",
       "    .dataframe tbody tr th {\n",
       "        vertical-align: top;\n",
       "    }\n",
       "\n",
       "    .dataframe thead th {\n",
       "        text-align: right;\n",
       "    }\n",
       "</style>\n",
       "<table border=\"1\" class=\"dataframe\">\n",
       "  <thead>\n",
       "    <tr style=\"text-align: right;\">\n",
       "      <th></th>\n",
       "      <th>stars</th>\n",
       "      <th>text</th>\n",
       "      <th>cleaned_text</th>\n",
       "    </tr>\n",
       "  </thead>\n",
       "  <tbody>\n",
       "    <tr>\n",
       "      <th>0</th>\n",
       "      <td>3</td>\n",
       "      <td>if you decide to eat here, just be aware it is going to take about 2 hours from beginning to end. we have tried it multiple times, because i want to like it! i have been to it's other locations in nj and never had a bad experience. \\n\\nthe food is good, but it takes a very long time to come out. the waitstaff is very young, but usually pleasant. we have just had too many experiences where we spent way too long waiting. we usually opt for another diner or restaurant on the weekends, in order to be done quicker.</td>\n",
       "      <td>decide eat aware go hour begin end try multiple time want like location nj never bad experience food good take long time come waitstaff young usually pleasant experience spend way long wait usually opt diner restaurant weekend order quick</td>\n",
       "    </tr>\n",
       "    <tr>\n",
       "      <th>1</th>\n",
       "      <td>5</td>\n",
       "      <td>i've taken a lot of spin classes over the years, and nothing compares to the classes at body cycle. from the nice, clean space and amazing bikes, to the welcoming and motivating instructors, every class is a top notch work out.\\n\\nfor anyone who struggles to fit workouts in, the online scheduling system makes it easy to plan ahead (and there's no need to line up way in advanced like many gyms make you do).\\n\\nthere is no way i can write this review without giving russell, the owner of body cycle, a shout out. russell's passion for fitness and cycling is so evident, as is his desire for all of his clients to succeed. he is always dropping in to classes to check in/provide encouragement, and is open to ideas and recommendations from anyone. russell always wears a smile on his face, even when he's kicking your butt in class!</td>\n",
       "      <td>take lot spin class year compare class body cycle nice clean space amazing bike welcoming motivate instructor class notch work struggle fit workout online scheduling system make easy plan ahead no need line way advanced like gym no way write review give russell owner body cycle shout russell passion fitness cycling evident desire client succeed drop class check provide encouragement open idea recommendation russell wear smile face kick butt class</td>\n",
       "    </tr>\n",
       "    <tr>\n",
       "      <th>2</th>\n",
       "      <td>3</td>\n",
       "      <td>family diner. had the buffet. eclectic assortment: a large chicken leg, fried jalapeño, tamale, two rolled grape leaves, fresh melon. all good. lots of mexican choices there. also has a menu with breakfast served all day long. friendly, attentive staff. good place for a casual relaxed meal with no expectations. next to the clarion hotel.</td>\n",
       "      <td>family diner buffet eclectic assortment large chicken leg fry jalapeño tamale roll grape leave fresh melon good lot mexican choice menu breakfast serve day long friendly attentive staff good place casual relaxed meal no expectation clarion hotel</td>\n",
       "    </tr>\n",
       "    <tr>\n",
       "      <th>3</th>\n",
       "      <td>5</td>\n",
       "      <td>wow!  yummy, different,  delicious.   our favorite is the lamb curry and korma.  with 10 different kinds of naan!!!  don't let the outside deter you (because we almost changed our minds)...go in and try something new!   you'll be glad you did!</td>\n",
       "      <td>wow yummy different delicious favorite lamb curry korma different kind naan let outside deter change try new glad</td>\n",
       "    </tr>\n",
       "    <tr>\n",
       "      <th>4</th>\n",
       "      <td>4</td>\n",
       "      <td>cute interior and owner (?) gave us tour of upcoming patio/rooftop area which will be great on beautiful days like today. cheese curds were very good and very filling. really like that sandwiches come w salad, esp after eating too many curds! had the onion, gruyere, tomato sandwich. wasn't too much cheese which i liked. needed something else...pepper jelly maybe. would like to see more menu options added such as salads w fun cheeses. lots of beer and wine as well as limited cocktails. next time i will try one of the draft wines.</td>\n",
       "      <td>cute interior owner give tour upcoming patio rooftop area great beautiful day like today cheese curd good filling like sandwich come w salad esp eat curd onion gruyere tomato sandwich cheese like need pepper jelly maybe like menu option add salad w fun cheese lot beer wine limited cocktail time try draft wine</td>\n",
       "    </tr>\n",
       "  </tbody>\n",
       "</table>\n",
       "</div>"
      ],
      "text/plain": [
       "   stars  \\\n",
       "0      3   \n",
       "1      5   \n",
       "2      3   \n",
       "3      5   \n",
       "4      4   \n",
       "\n",
       "                                                                                                                                                                                                                                                                                                                                                                                                                                                                                                                                                                                                                                                                                                                                                                                                                                                                text  \\\n",
       "0                                                                                                                                                                                                                                                                                                                                if you decide to eat here, just be aware it is going to take about 2 hours from beginning to end. we have tried it multiple times, because i want to like it! i have been to it's other locations in nj and never had a bad experience. \\n\\nthe food is good, but it takes a very long time to come out. the waitstaff is very young, but usually pleasant. we have just had too many experiences where we spent way too long waiting. we usually opt for another diner or restaurant on the weekends, in order to be done quicker.   \n",
       "1  i've taken a lot of spin classes over the years, and nothing compares to the classes at body cycle. from the nice, clean space and amazing bikes, to the welcoming and motivating instructors, every class is a top notch work out.\\n\\nfor anyone who struggles to fit workouts in, the online scheduling system makes it easy to plan ahead (and there's no need to line up way in advanced like many gyms make you do).\\n\\nthere is no way i can write this review without giving russell, the owner of body cycle, a shout out. russell's passion for fitness and cycling is so evident, as is his desire for all of his clients to succeed. he is always dropping in to classes to check in/provide encouragement, and is open to ideas and recommendations from anyone. russell always wears a smile on his face, even when he's kicking your butt in class!   \n",
       "2                                                                                                                                                                                                                                                                                                                                                                                                                                                                                                                family diner. had the buffet. eclectic assortment: a large chicken leg, fried jalapeño, tamale, two rolled grape leaves, fresh melon. all good. lots of mexican choices there. also has a menu with breakfast served all day long. friendly, attentive staff. good place for a casual relaxed meal with no expectations. next to the clarion hotel.   \n",
       "3                                                                                                                                                                                                                                                                                                                                                                                                                                                                                                                                                                                                                wow!  yummy, different,  delicious.   our favorite is the lamb curry and korma.  with 10 different kinds of naan!!!  don't let the outside deter you (because we almost changed our minds)...go in and try something new!   you'll be glad you did!   \n",
       "4                                                                                                                                                                                                                                                                                                             cute interior and owner (?) gave us tour of upcoming patio/rooftop area which will be great on beautiful days like today. cheese curds were very good and very filling. really like that sandwiches come w salad, esp after eating too many curds! had the onion, gruyere, tomato sandwich. wasn't too much cheese which i liked. needed something else...pepper jelly maybe. would like to see more menu options added such as salads w fun cheeses. lots of beer and wine as well as limited cocktails. next time i will try one of the draft wines.   \n",
       "\n",
       "                                                                                                                                                                                                                                                                                                                                                                                                                                                         cleaned_text  \n",
       "0                                                                                                                                                                                                                      decide eat aware go hour begin end try multiple time want like location nj never bad experience food good take long time come waitstaff young usually pleasant experience spend way long wait usually opt diner restaurant weekend order quick  \n",
       "1  take lot spin class year compare class body cycle nice clean space amazing bike welcoming motivate instructor class notch work struggle fit workout online scheduling system make easy plan ahead no need line way advanced like gym no way write review give russell owner body cycle shout russell passion fitness cycling evident desire client succeed drop class check provide encouragement open idea recommendation russell wear smile face kick butt class  \n",
       "2                                                                                                                                                                                                               family diner buffet eclectic assortment large chicken leg fry jalapeño tamale roll grape leave fresh melon good lot mexican choice menu breakfast serve day long friendly attentive staff good place casual relaxed meal no expectation clarion hotel  \n",
       "3                                                                                                                                                                                                                                                                                                                                                   wow yummy different delicious favorite lamb curry korma different kind naan let outside deter change try new glad  \n",
       "4                                                                                                                                              cute interior owner give tour upcoming patio rooftop area great beautiful day like today cheese curd good filling like sandwich come w salad esp eat curd onion gruyere tomato sandwich cheese like need pepper jelly maybe like menu option add salad w fun cheese lot beer wine limited cocktail time try draft wine  "
      ]
     },
     "execution_count": 8,
     "metadata": {},
     "output_type": "execute_result"
    }
   ],
   "source": [
    "df.head()"
   ]
  },
  {
   "cell_type": "code",
   "execution_count": 9,
   "id": "0a864af8",
   "metadata": {},
   "outputs": [
    {
     "data": {
      "text/plain": [
       "['stars', 'text', 'cleaned_text']"
      ]
     },
     "execution_count": 9,
     "metadata": {},
     "output_type": "execute_result"
    }
   ],
   "source": [
    "df.columns.tolist()"
   ]
  },
  {
   "cell_type": "code",
   "execution_count": 10,
   "id": "7bd69a23",
   "metadata": {},
   "outputs": [
    {
     "name": "stdout",
     "output_type": "stream",
     "text": [
      "0\n",
      "218\n"
     ]
    }
   ],
   "source": [
    "print(df['text'].duplicated().sum())\n",
    "print(df['cleaned_text'].duplicated().sum())"
   ]
  },
  {
   "cell_type": "code",
   "execution_count": 11,
   "id": "aa50b25d",
   "metadata": {},
   "outputs": [
    {
     "name": "stdout",
     "output_type": "stream",
     "text": [
      "0\n",
      "0\n"
     ]
    }
   ],
   "source": [
    "print(df['text'].isna().sum())\n",
    "print(df['cleaned_text'].isna().sum())"
   ]
  },
  {
   "cell_type": "code",
   "execution_count": 13,
   "id": "a5457849",
   "metadata": {},
   "outputs": [
    {
     "data": {
      "text/plain": [
       "(499221, 3)"
      ]
     },
     "execution_count": 13,
     "metadata": {},
     "output_type": "execute_result"
    }
   ],
   "source": [
    "df.shape"
   ]
  },
  {
   "cell_type": "code",
   "execution_count": 14,
   "id": "aa3aaf84",
   "metadata": {},
   "outputs": [
    {
     "name": "stdout",
     "output_type": "stream",
     "text": [
      "0\n"
     ]
    }
   ],
   "source": [
    "df = df.drop_duplicates(subset=['cleaned_text']).reset_index(drop=True)\n",
    "print(df['cleaned_text'].duplicated().sum())"
   ]
  },
  {
   "cell_type": "code",
   "execution_count": 15,
   "id": "7d84b4d1",
   "metadata": {},
   "outputs": [
    {
     "data": {
      "text/plain": [
       "(499003, 3)"
      ]
     },
     "execution_count": 15,
     "metadata": {},
     "output_type": "execute_result"
    }
   ],
   "source": [
    "df.shape"
   ]
  },
  {
   "cell_type": "code",
   "execution_count": 16,
   "id": "895b83b8",
   "metadata": {},
   "outputs": [
    {
     "name": "stdout",
     "output_type": "stream",
     "text": [
      "0\n",
      "0\n"
     ]
    }
   ],
   "source": [
    "print(df['text'].duplicated().sum())\n",
    "print(df['cleaned_text'].duplicated().sum())"
   ]
  },
  {
   "cell_type": "code",
   "execution_count": 17,
   "id": "2aa3a3af",
   "metadata": {},
   "outputs": [],
   "source": [
    "df = df[['stars', 'cleaned_text']]"
   ]
  },
  {
   "cell_type": "code",
   "execution_count": 18,
   "id": "e1ea0777",
   "metadata": {},
   "outputs": [
    {
     "data": {
      "text/plain": [
       "['stars', 'cleaned_text']"
      ]
     },
     "execution_count": 18,
     "metadata": {},
     "output_type": "execute_result"
    }
   ],
   "source": [
    "df.columns.tolist()"
   ]
  },
  {
   "cell_type": "code",
   "execution_count": 19,
   "id": "9fd2f04d",
   "metadata": {},
   "outputs": [],
   "source": [
    "df.to_csv('data_cleaned.csv', index=False)"
   ]
  },
  {
   "cell_type": "markdown",
   "id": "acf6a45e",
   "metadata": {},
   "source": [
    "## 3- Feature Selection"
   ]
  },
  {
   "cell_type": "markdown",
   "id": "e8fa4075",
   "metadata": {},
   "source": [
    "### a-) Feature Creation:"
   ]
  },
  {
   "cell_type": "code",
   "execution_count": 20,
   "id": "901fd7cb",
   "metadata": {},
   "outputs": [
    {
     "data": {
      "text/html": [
       "<div>\n",
       "<style scoped>\n",
       "    .dataframe tbody tr th:only-of-type {\n",
       "        vertical-align: middle;\n",
       "    }\n",
       "\n",
       "    .dataframe tbody tr th {\n",
       "        vertical-align: top;\n",
       "    }\n",
       "\n",
       "    .dataframe thead th {\n",
       "        text-align: right;\n",
       "    }\n",
       "</style>\n",
       "<table border=\"1\" class=\"dataframe\">\n",
       "  <thead>\n",
       "    <tr style=\"text-align: right;\">\n",
       "      <th></th>\n",
       "      <th>stars</th>\n",
       "      <th>cleaned_text</th>\n",
       "    </tr>\n",
       "  </thead>\n",
       "  <tbody>\n",
       "    <tr>\n",
       "      <th>0</th>\n",
       "      <td>3</td>\n",
       "      <td>decide eat aware go hour begin end try multiple time want like location nj never bad experience food good take long time come waitstaff young usually pleasant experience spend way long wait usually opt diner restaurant weekend order quick</td>\n",
       "    </tr>\n",
       "    <tr>\n",
       "      <th>1</th>\n",
       "      <td>5</td>\n",
       "      <td>take lot spin class year compare class body cycle nice clean space amazing bike welcoming motivate instructor class notch work struggle fit workout online scheduling system make easy plan ahead no need line way advanced like gym no way write review give russell owner body cycle shout russell passion fitness cycling evident desire client succeed drop class check provide encouragement open idea recommendation russell wear smile face kick butt class</td>\n",
       "    </tr>\n",
       "    <tr>\n",
       "      <th>2</th>\n",
       "      <td>3</td>\n",
       "      <td>family diner buffet eclectic assortment large chicken leg fry jalapeño tamale roll grape leave fresh melon good lot mexican choice menu breakfast serve day long friendly attentive staff good place casual relaxed meal no expectation clarion hotel</td>\n",
       "    </tr>\n",
       "    <tr>\n",
       "      <th>3</th>\n",
       "      <td>5</td>\n",
       "      <td>wow yummy different delicious favorite lamb curry korma different kind naan let outside deter change try new glad</td>\n",
       "    </tr>\n",
       "    <tr>\n",
       "      <th>4</th>\n",
       "      <td>4</td>\n",
       "      <td>cute interior owner give tour upcoming patio rooftop area great beautiful day like today cheese curd good filling like sandwich come w salad esp eat curd onion gruyere tomato sandwich cheese like need pepper jelly maybe like menu option add salad w fun cheese lot beer wine limited cocktail time try draft wine</td>\n",
       "    </tr>\n",
       "  </tbody>\n",
       "</table>\n",
       "</div>"
      ],
      "text/plain": [
       "   stars  \\\n",
       "0      3   \n",
       "1      5   \n",
       "2      3   \n",
       "3      5   \n",
       "4      4   \n",
       "\n",
       "                                                                                                                                                                                                                                                                                                                                                                                                                                                         cleaned_text  \n",
       "0                                                                                                                                                                                                                      decide eat aware go hour begin end try multiple time want like location nj never bad experience food good take long time come waitstaff young usually pleasant experience spend way long wait usually opt diner restaurant weekend order quick  \n",
       "1  take lot spin class year compare class body cycle nice clean space amazing bike welcoming motivate instructor class notch work struggle fit workout online scheduling system make easy plan ahead no need line way advanced like gym no way write review give russell owner body cycle shout russell passion fitness cycling evident desire client succeed drop class check provide encouragement open idea recommendation russell wear smile face kick butt class  \n",
       "2                                                                                                                                                                                                               family diner buffet eclectic assortment large chicken leg fry jalapeño tamale roll grape leave fresh melon good lot mexican choice menu breakfast serve day long friendly attentive staff good place casual relaxed meal no expectation clarion hotel  \n",
       "3                                                                                                                                                                                                                                                                                                                                                   wow yummy different delicious favorite lamb curry korma different kind naan let outside deter change try new glad  \n",
       "4                                                                                                                                              cute interior owner give tour upcoming patio rooftop area great beautiful day like today cheese curd good filling like sandwich come w salad esp eat curd onion gruyere tomato sandwich cheese like need pepper jelly maybe like menu option add salad w fun cheese lot beer wine limited cocktail time try draft wine  "
      ]
     },
     "execution_count": 20,
     "metadata": {},
     "output_type": "execute_result"
    }
   ],
   "source": [
    "df = pd.read_csv('data_cleaned.csv')\n",
    "df.head()"
   ]
  },
  {
   "cell_type": "code",
   "execution_count": 21,
   "id": "6f334e86",
   "metadata": {},
   "outputs": [],
   "source": [
    "def categorize(stars):\n",
    "    if stars < 3:\n",
    "        return \"Negative\"\n",
    "    elif stars == 3:\n",
    "        return \"Neutre\"\n",
    "    else:\n",
    "        return \"Positive\"\n",
    "df['rating'] = df['stars'].apply(categorize)"
   ]
  },
  {
   "cell_type": "code",
   "execution_count": 22,
   "id": "51a26621",
   "metadata": {},
   "outputs": [
    {
     "data": {
      "text/plain": [
       "['stars', 'cleaned_text', 'rating']"
      ]
     },
     "execution_count": 22,
     "metadata": {},
     "output_type": "execute_result"
    }
   ],
   "source": [
    "df.columns.tolist()"
   ]
  },
  {
   "cell_type": "code",
   "execution_count": 23,
   "id": "8a12de46",
   "metadata": {},
   "outputs": [],
   "source": [
    "df = df[['cleaned_text', 'rating']]"
   ]
  },
  {
   "cell_type": "code",
   "execution_count": 24,
   "id": "291f1d62",
   "metadata": {},
   "outputs": [
    {
     "data": {
      "text/html": [
       "<div>\n",
       "<style scoped>\n",
       "    .dataframe tbody tr th:only-of-type {\n",
       "        vertical-align: middle;\n",
       "    }\n",
       "\n",
       "    .dataframe tbody tr th {\n",
       "        vertical-align: top;\n",
       "    }\n",
       "\n",
       "    .dataframe thead th {\n",
       "        text-align: right;\n",
       "    }\n",
       "</style>\n",
       "<table border=\"1\" class=\"dataframe\">\n",
       "  <thead>\n",
       "    <tr style=\"text-align: right;\">\n",
       "      <th></th>\n",
       "      <th>cleaned_text</th>\n",
       "      <th>rating</th>\n",
       "    </tr>\n",
       "  </thead>\n",
       "  <tbody>\n",
       "    <tr>\n",
       "      <th>0</th>\n",
       "      <td>decide eat aware go hour begin end try multiple time want like location nj never bad experience food good take long time come waitstaff young usually pleasant experience spend way long wait usually opt diner restaurant weekend order quick</td>\n",
       "      <td>Neutre</td>\n",
       "    </tr>\n",
       "    <tr>\n",
       "      <th>1</th>\n",
       "      <td>take lot spin class year compare class body cycle nice clean space amazing bike welcoming motivate instructor class notch work struggle fit workout online scheduling system make easy plan ahead no need line way advanced like gym no way write review give russell owner body cycle shout russell passion fitness cycling evident desire client succeed drop class check provide encouragement open idea recommendation russell wear smile face kick butt class</td>\n",
       "      <td>Positive</td>\n",
       "    </tr>\n",
       "    <tr>\n",
       "      <th>2</th>\n",
       "      <td>family diner buffet eclectic assortment large chicken leg fry jalapeño tamale roll grape leave fresh melon good lot mexican choice menu breakfast serve day long friendly attentive staff good place casual relaxed meal no expectation clarion hotel</td>\n",
       "      <td>Neutre</td>\n",
       "    </tr>\n",
       "    <tr>\n",
       "      <th>3</th>\n",
       "      <td>wow yummy different delicious favorite lamb curry korma different kind naan let outside deter change try new glad</td>\n",
       "      <td>Positive</td>\n",
       "    </tr>\n",
       "    <tr>\n",
       "      <th>4</th>\n",
       "      <td>cute interior owner give tour upcoming patio rooftop area great beautiful day like today cheese curd good filling like sandwich come w salad esp eat curd onion gruyere tomato sandwich cheese like need pepper jelly maybe like menu option add salad w fun cheese lot beer wine limited cocktail time try draft wine</td>\n",
       "      <td>Positive</td>\n",
       "    </tr>\n",
       "  </tbody>\n",
       "</table>\n",
       "</div>"
      ],
      "text/plain": [
       "                                                                                                                                                                                                                                                                                                                                                                                                                                                         cleaned_text  \\\n",
       "0                                                                                                                                                                                                                      decide eat aware go hour begin end try multiple time want like location nj never bad experience food good take long time come waitstaff young usually pleasant experience spend way long wait usually opt diner restaurant weekend order quick   \n",
       "1  take lot spin class year compare class body cycle nice clean space amazing bike welcoming motivate instructor class notch work struggle fit workout online scheduling system make easy plan ahead no need line way advanced like gym no way write review give russell owner body cycle shout russell passion fitness cycling evident desire client succeed drop class check provide encouragement open idea recommendation russell wear smile face kick butt class   \n",
       "2                                                                                                                                                                                                               family diner buffet eclectic assortment large chicken leg fry jalapeño tamale roll grape leave fresh melon good lot mexican choice menu breakfast serve day long friendly attentive staff good place casual relaxed meal no expectation clarion hotel   \n",
       "3                                                                                                                                                                                                                                                                                                                                                   wow yummy different delicious favorite lamb curry korma different kind naan let outside deter change try new glad   \n",
       "4                                                                                                                                              cute interior owner give tour upcoming patio rooftop area great beautiful day like today cheese curd good filling like sandwich come w salad esp eat curd onion gruyere tomato sandwich cheese like need pepper jelly maybe like menu option add salad w fun cheese lot beer wine limited cocktail time try draft wine   \n",
       "\n",
       "     rating  \n",
       "0    Neutre  \n",
       "1  Positive  \n",
       "2    Neutre  \n",
       "3  Positive  \n",
       "4  Positive  "
      ]
     },
     "execution_count": 24,
     "metadata": {},
     "output_type": "execute_result"
    }
   ],
   "source": [
    "df.head()"
   ]
  },
  {
   "cell_type": "code",
   "execution_count": 25,
   "id": "38bedabc",
   "metadata": {},
   "outputs": [
    {
     "name": "stdout",
     "output_type": "stream",
     "text": [
      "['cleaned_text', 'rating']\n",
      "(499003, 2)\n"
     ]
    }
   ],
   "source": [
    "print(df.columns.tolist())\n",
    "print(df.shape)"
   ]
  },
  {
   "cell_type": "code",
   "execution_count": 26,
   "id": "97215b29",
   "metadata": {},
   "outputs": [
    {
     "data": {
      "text/plain": [
       "rating\n",
       "Positive    342632\n",
       "Negative    103851\n",
       "Neutre       52520\n",
       "Name: count, dtype: int64"
      ]
     },
     "execution_count": 26,
     "metadata": {},
     "output_type": "execute_result"
    }
   ],
   "source": [
    "df['rating'].value_counts()"
   ]
  },
  {
   "cell_type": "markdown",
   "id": "37c84316",
   "metadata": {},
   "source": [
    "### ==> Balance Data:"
   ]
  },
  {
   "cell_type": "code",
   "execution_count": 27,
   "id": "d9ae6803",
   "metadata": {},
   "outputs": [],
   "source": [
    "positive_sample = df[df['rating'] == 'Positive'].sample(n=50000, random_state=42)\n",
    "negative_sample = df[df['rating'] == 'Negative'].sample(n=50000, random_state=42)\n",
    "neutral_sample = df[df['rating'] == 'Neutre'].sample(n=50000, random_state=42)\n",
    "\n",
    "balanced_df = pd.concat([positive_sample, negative_sample, neutral_sample], ignore_index = True)\n",
    "\n",
    "shuffled_result = balanced_df.sample(frac=1, random_state=42).reset_index(drop=True)\n",
    "\n",
    "shuffled_result.to_csv('balanced_data.csv', index=False)\n",
    "\n"
   ]
  },
  {
   "cell_type": "code",
   "execution_count": 29,
   "id": "a5ec7bd8",
   "metadata": {},
   "outputs": [
    {
     "data": {
      "text/html": [
       "<div>\n",
       "<style scoped>\n",
       "    .dataframe tbody tr th:only-of-type {\n",
       "        vertical-align: middle;\n",
       "    }\n",
       "\n",
       "    .dataframe tbody tr th {\n",
       "        vertical-align: top;\n",
       "    }\n",
       "\n",
       "    .dataframe thead th {\n",
       "        text-align: right;\n",
       "    }\n",
       "</style>\n",
       "<table border=\"1\" class=\"dataframe\">\n",
       "  <thead>\n",
       "    <tr style=\"text-align: right;\">\n",
       "      <th></th>\n",
       "      <th>cleaned_text</th>\n",
       "      <th>rating</th>\n",
       "    </tr>\n",
       "  </thead>\n",
       "  <tbody>\n",
       "    <tr>\n",
       "      <th>0</th>\n",
       "      <td>pretty famous hotel nashville right not nashville instead airport agree ton review sprawling word day come place let break little location outside town need car ride benefit airport minute away not benefit book day facility standard hotel ok well room stay definitely outdated room believe new wing well view outside fantastic view parking lot remind awful big box retail store suburbia interior room view massive atrium balcony shoot get place challenge size confusing layout think vegas hotel story tall spread area size kind like maze lot restaurant bar guess bad pool locate different part hotel impressive adequate gym include gym ok ok room hotel not massive resort room service ouch impression count opryland completely screw valet suck bellman basically quarantine luggage say cart touch seriously extremely poor long trip want room hold fall apart lazy valet gladly take tip move luggage cart foot impound detail absolutely infuriate wifey mad pretty calm understand people service resort well impression count know hotel nashville omni include right fee oh lord know come agree ashley h get rate pretty fair guess say bill come night resort fee crappy gym fail park super walmart like surface lot terrible valet day taxis taxis nickle dim crap suck no value atrium huge wing kind neat cruise way negative issue opryland business maybe look room downtown</td>\n",
       "      <td>Negative</td>\n",
       "    </tr>\n",
       "    <tr>\n",
       "      <th>1</th>\n",
       "      <td>happy service today go crappy place girl no idea wtf handle gel nail place call place booked wait time literally minute time drive happy ly nail cute sure care nail ask want coat gel etc well price basic gel color happy salon compare place reno thank ly</td>\n",
       "      <td>Positive</td>\n",
       "    </tr>\n",
       "    <tr>\n",
       "      <th>2</th>\n",
       "      <td>fyi charge certain item weight way sorta similar kiwi live literally block away time inside place walk past lot exactly motive try place mean bright orange mural giant chicken sorta walk get classic white dark meat chicken tender wishbone mac cheese pro cute homey decor give invite vibe meat chicken tender cook beautifully dry hard bite eat literally pull chicken tender apart hand put fight pretty nice variety sauce display new addition citrus honey butter honey butter literally gold know probably suppose biscuit eat chicken fall love combination legit take rest home get to mac cheese definitely star taste awesome bit heat end presentation use bit work noodle sorta fall apart enjoy con coating chicken taste like get lot flavor sauce dip get chipotle lime mayo pommery honey mustard rename chipotle mayo like chipotle mayo no creaminess absolutely no lime flavor honey mustard lack honey food wishbone definitely fare overpriced eat probably snack want spend butt ton money</td>\n",
       "      <td>Neutre</td>\n",
       "    </tr>\n",
       "    <tr>\n",
       "      <th>3</th>\n",
       "      <td>wait minute table sure reservation wait get small table corner far enjoy band get earl gray garden drink taste water enjoy dinner get ms moons bulgogi rice bowl thinly slice marinate ribeye steak spinach housemade kimchi add fried egg good portion size small scale lamb slider bit dry small scale</td>\n",
       "      <td>Neutre</td>\n",
       "    </tr>\n",
       "    <tr>\n",
       "      <th>4</th>\n",
       "      <td>grand opening chinese joint south broad street trenton postage stamp size dining area table eat chair wait away space clean kitchen shiny open little week menu extensive basically traditional chinese american emporium authentic want good chinois not park wheel broad place orange flavor chicken load styro container eat chicken fresh not deeply frozen sauce gloopy orange color taste citrus weak despite orange peel mix fried rice bright yellow dye bullion stock morning plenty roast pork veggie not egg scramble people fuzhounese province north old canton strait taiwan cuisine similar cantonese influence tend sweetness close allow success chinese war interested soon new clean owner interest get thing right remember deal not disappoint pro tip serve hot tea</td>\n",
       "      <td>Neutre</td>\n",
       "    </tr>\n",
       "  </tbody>\n",
       "</table>\n",
       "</div>"
      ],
      "text/plain": [
       "                                                                                                                                                                                                                                                                                                                                                                                                                                                                                                                                                                                                                                                                                                                                                                                                                                                                                                                                                                                                                                                                                                                                                                                                                                                                                                                                                                                                          cleaned_text  \\\n",
       "0  pretty famous hotel nashville right not nashville instead airport agree ton review sprawling word day come place let break little location outside town need car ride benefit airport minute away not benefit book day facility standard hotel ok well room stay definitely outdated room believe new wing well view outside fantastic view parking lot remind awful big box retail store suburbia interior room view massive atrium balcony shoot get place challenge size confusing layout think vegas hotel story tall spread area size kind like maze lot restaurant bar guess bad pool locate different part hotel impressive adequate gym include gym ok ok room hotel not massive resort room service ouch impression count opryland completely screw valet suck bellman basically quarantine luggage say cart touch seriously extremely poor long trip want room hold fall apart lazy valet gladly take tip move luggage cart foot impound detail absolutely infuriate wifey mad pretty calm understand people service resort well impression count know hotel nashville omni include right fee oh lord know come agree ashley h get rate pretty fair guess say bill come night resort fee crappy gym fail park super walmart like surface lot terrible valet day taxis taxis nickle dim crap suck no value atrium huge wing kind neat cruise way negative issue opryland business maybe look room downtown   \n",
       "1                                                                                                                                                                                                                                                                                                                                                                                                                                                                                                                                                                                                                                                                                                                                                                                                                                                                                                                                                                                                                                                                                                                                                        happy service today go crappy place girl no idea wtf handle gel nail place call place booked wait time literally minute time drive happy ly nail cute sure care nail ask want coat gel etc well price basic gel color happy salon compare place reno thank ly   \n",
       "2                                                                                                                                                                                                                                                                                                                                                                                               fyi charge certain item weight way sorta similar kiwi live literally block away time inside place walk past lot exactly motive try place mean bright orange mural giant chicken sorta walk get classic white dark meat chicken tender wishbone mac cheese pro cute homey decor give invite vibe meat chicken tender cook beautifully dry hard bite eat literally pull chicken tender apart hand put fight pretty nice variety sauce display new addition citrus honey butter honey butter literally gold know probably suppose biscuit eat chicken fall love combination legit take rest home get to mac cheese definitely star taste awesome bit heat end presentation use bit work noodle sorta fall apart enjoy con coating chicken taste like get lot flavor sauce dip get chipotle lime mayo pommery honey mustard rename chipotle mayo like chipotle mayo no creaminess absolutely no lime flavor honey mustard lack honey food wishbone definitely fare overpriced eat probably snack want spend butt ton money   \n",
       "3                                                                                                                                                                                                                                                                                                                                                                                                                                                                                                                                                                                                                                                                                                                                                                                                                                                                                                                                                                                                                                                                                                             wait minute table sure reservation wait get small table corner far enjoy band get earl gray garden drink taste water enjoy dinner get ms moons bulgogi rice bowl thinly slice marinate ribeye steak spinach housemade kimchi add fried egg good portion size small scale lamb slider bit dry small scale   \n",
       "4                                                                                                                                                                                                                                                                                                                                                                                                                                                                                                                                                                                                                            grand opening chinese joint south broad street trenton postage stamp size dining area table eat chair wait away space clean kitchen shiny open little week menu extensive basically traditional chinese american emporium authentic want good chinois not park wheel broad place orange flavor chicken load styro container eat chicken fresh not deeply frozen sauce gloopy orange color taste citrus weak despite orange peel mix fried rice bright yellow dye bullion stock morning plenty roast pork veggie not egg scramble people fuzhounese province north old canton strait taiwan cuisine similar cantonese influence tend sweetness close allow success chinese war interested soon new clean owner interest get thing right remember deal not disappoint pro tip serve hot tea   \n",
       "\n",
       "     rating  \n",
       "0  Negative  \n",
       "1  Positive  \n",
       "2    Neutre  \n",
       "3    Neutre  \n",
       "4    Neutre  "
      ]
     },
     "execution_count": 29,
     "metadata": {},
     "output_type": "execute_result"
    }
   ],
   "source": [
    "df = pd.read_csv('balanced_data.csv')\n",
    "df.head()"
   ]
  },
  {
   "cell_type": "code",
   "execution_count": 31,
   "id": "27f9a318",
   "metadata": {},
   "outputs": [
    {
     "data": {
      "text/plain": [
       "rating\n",
       "Negative    50000\n",
       "Positive    50000\n",
       "Neutre      50000\n",
       "Name: count, dtype: int64"
      ]
     },
     "execution_count": 31,
     "metadata": {},
     "output_type": "execute_result"
    }
   ],
   "source": [
    "df.shape\n",
    "df['rating'].value_counts()"
   ]
  },
  {
   "cell_type": "code",
   "execution_count": 32,
   "id": "a2a3a2e1",
   "metadata": {},
   "outputs": [
    {
     "data": {
      "text/plain": [
       "np.int64(0)"
      ]
     },
     "execution_count": 32,
     "metadata": {},
     "output_type": "execute_result"
    }
   ],
   "source": [
    "df.duplicated().sum()"
   ]
  },
  {
   "cell_type": "code",
   "execution_count": 33,
   "id": "564672c7",
   "metadata": {},
   "outputs": [
    {
     "data": {
      "text/plain": [
       "cleaned_text    1\n",
       "rating          0\n",
       "dtype: int64"
      ]
     },
     "execution_count": 33,
     "metadata": {},
     "output_type": "execute_result"
    }
   ],
   "source": [
    "df.isna().sum()"
   ]
  },
  {
   "cell_type": "code",
   "execution_count": 34,
   "id": "ab8c0f44",
   "metadata": {},
   "outputs": [],
   "source": [
    "df = df.drop_duplicates()"
   ]
  },
  {
   "cell_type": "code",
   "execution_count": 35,
   "id": "6fd3526f",
   "metadata": {},
   "outputs": [],
   "source": [
    "df = df.dropna()"
   ]
  },
  {
   "cell_type": "code",
   "execution_count": 36,
   "id": "1e428392",
   "metadata": {},
   "outputs": [
    {
     "data": {
      "text/plain": [
       "np.int64(0)"
      ]
     },
     "execution_count": 36,
     "metadata": {},
     "output_type": "execute_result"
    }
   ],
   "source": [
    "df.duplicated().sum()"
   ]
  },
  {
   "cell_type": "code",
   "execution_count": 37,
   "id": "f8e452f7",
   "metadata": {},
   "outputs": [
    {
     "data": {
      "text/plain": [
       "cleaned_text    0\n",
       "rating          0\n",
       "dtype: int64"
      ]
     },
     "execution_count": 37,
     "metadata": {},
     "output_type": "execute_result"
    }
   ],
   "source": [
    "df.isna().sum()"
   ]
  },
  {
   "cell_type": "markdown",
   "id": "78066f76",
   "metadata": {},
   "source": [
    "### b-) Feature Transformation:"
   ]
  },
  {
   "cell_type": "code",
   "execution_count": null,
   "id": "c3ec9120",
   "metadata": {},
   "outputs": [
    {
     "data": {
      "text/plain": [
       "['../MODELS/SGD_MODEL/label_classes.pkl']"
      ]
     },
     "execution_count": 39,
     "metadata": {},
     "output_type": "execute_result"
    }
   ],
   "source": [
    "labels = df['rating']\n",
    "\n",
    "lb = LabelEncoder()\n",
    "y = lb.fit_transform(labels)\n",
    "\n",
    "\n",
    "\n",
    "os.makedirs('../artifacts', exist_ok=True)\n",
    "\n",
    "joblib.dump(lb, '../artifacts/LabelEncoder.pkl')\n",
    "\n",
    "joblib.dump(y, '../artifacts/y.pkl')\n",
    "\n",
    "joblib.dump(lb.classes_, '../artifacts/label_classes.pkl')\n"
   ]
  },
  {
   "cell_type": "markdown",
   "id": "8c7b25ea",
   "metadata": {},
   "source": [
    "### c-) Feature Extraction:"
   ]
  },
  {
   "cell_type": "code",
   "execution_count": null,
   "id": "5a8eb32c",
   "metadata": {},
   "outputs": [],
   "source": [
    "texts = df['cleaned_text']\n",
    "\n",
    "tiv = TfidfVectorizer(max_features=10000)\n",
    "x = tiv.fit_transform(texts)\n",
    "\n",
    "os.makedirs('../artifacts', exist_ok=True)\n",
    "\n",
    "joblib.dump(tiv, '../artifacts/TfidfVectorizer.pkl')\n",
    "\n",
    "joblib.dump(x, '../artifacts/x.pkl')"
   ]
  },
  {
   "cell_type": "code",
   "execution_count": 40,
   "id": "208d3f64",
   "metadata": {},
   "outputs": [
    {
     "name": "stdout",
     "output_type": "stream",
     "text": [
      "Classe Originales: ['Negative' 'Neutre' 'Positive']\n",
      "Classes Encodées: [0 1 2]\n"
     ]
    }
   ],
   "source": [
    "print(f\"Classe Originales: {lb.classes_}\")\n",
    "print(f\"Classes Encodées: {lb.transform(lb.classes_)}\")"
   ]
  },
  {
   "cell_type": "code",
   "execution_count": 41,
   "id": "4683bdbe",
   "metadata": {},
   "outputs": [
    {
     "data": {
      "text/plain": [
       "(149999, 10000)"
      ]
     },
     "execution_count": 41,
     "metadata": {},
     "output_type": "execute_result"
    }
   ],
   "source": [
    "x.shape"
   ]
  },
  {
   "cell_type": "code",
   "execution_count": null,
   "id": "4f56bd96",
   "metadata": {},
   "outputs": [],
   "source": []
  }
 ],
 "metadata": {
  "kernelspec": {
   "display_name": "Python (ml)",
   "language": "python",
   "name": "ml"
  },
  "language_info": {
   "codemirror_mode": {
    "name": "ipython",
    "version": 3
   },
   "file_extension": ".py",
   "mimetype": "text/x-python",
   "name": "python",
   "nbconvert_exporter": "python",
   "pygments_lexer": "ipython3",
   "version": "3.12.3"
  }
 },
 "nbformat": 4,
 "nbformat_minor": 5
}
